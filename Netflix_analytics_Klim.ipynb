{
 "cells": [
  {
   "cell_type": "code",
   "execution_count": 133,
   "id": "4ed2db5a",
   "metadata": {},
   "outputs": [],
   "source": [
    "import numpy as np\n",
    "import pandas as pd \n",
    "import matplotlib.pyplot as plt \n",
    "import seaborn as sns\n",
    "import plotly.express as px\n",
    "from scipy.stats import ttest_ind\n",
    "from scipy.stats import chi2_contingency\n",
    "from scipy import stats"
   ]
  },
  {
   "cell_type": "code",
   "execution_count": 134,
   "id": "c84cf93b",
   "metadata": {},
   "outputs": [
    {
     "data": {
      "text/html": [
       "<div>\n",
       "<style scoped>\n",
       "    .dataframe tbody tr th:only-of-type {\n",
       "        vertical-align: middle;\n",
       "    }\n",
       "\n",
       "    .dataframe tbody tr th {\n",
       "        vertical-align: top;\n",
       "    }\n",
       "\n",
       "    .dataframe thead th {\n",
       "        text-align: right;\n",
       "    }\n",
       "</style>\n",
       "<table border=\"1\" class=\"dataframe\">\n",
       "  <thead>\n",
       "    <tr style=\"text-align: right;\">\n",
       "      <th></th>\n",
       "      <th>show_id</th>\n",
       "      <th>type</th>\n",
       "      <th>title</th>\n",
       "      <th>director</th>\n",
       "      <th>country</th>\n",
       "      <th>date_added</th>\n",
       "      <th>release_year</th>\n",
       "      <th>rating</th>\n",
       "      <th>duration</th>\n",
       "      <th>listed_in</th>\n",
       "    </tr>\n",
       "  </thead>\n",
       "  <tbody>\n",
       "    <tr>\n",
       "      <th>0</th>\n",
       "      <td>s1</td>\n",
       "      <td>Movie</td>\n",
       "      <td>Dick Johnson Is Dead</td>\n",
       "      <td>Kirsten Johnson</td>\n",
       "      <td>United States</td>\n",
       "      <td>9/25/2021</td>\n",
       "      <td>2020</td>\n",
       "      <td>PG-13</td>\n",
       "      <td>90 min</td>\n",
       "      <td>Documentaries</td>\n",
       "    </tr>\n",
       "    <tr>\n",
       "      <th>1</th>\n",
       "      <td>s3</td>\n",
       "      <td>TV Show</td>\n",
       "      <td>Ganglands</td>\n",
       "      <td>Julien Leclercq</td>\n",
       "      <td>France</td>\n",
       "      <td>9/24/2021</td>\n",
       "      <td>2021</td>\n",
       "      <td>TV-MA</td>\n",
       "      <td>1 Season</td>\n",
       "      <td>Crime TV Shows, International TV Shows, TV Act...</td>\n",
       "    </tr>\n",
       "    <tr>\n",
       "      <th>2</th>\n",
       "      <td>s6</td>\n",
       "      <td>TV Show</td>\n",
       "      <td>Midnight Mass</td>\n",
       "      <td>Mike Flanagan</td>\n",
       "      <td>United States</td>\n",
       "      <td>9/24/2021</td>\n",
       "      <td>2021</td>\n",
       "      <td>TV-MA</td>\n",
       "      <td>1 Season</td>\n",
       "      <td>TV Dramas, TV Horror, TV Mysteries</td>\n",
       "    </tr>\n",
       "    <tr>\n",
       "      <th>3</th>\n",
       "      <td>s14</td>\n",
       "      <td>Movie</td>\n",
       "      <td>Confessions of an Invisible Girl</td>\n",
       "      <td>Bruno Garotti</td>\n",
       "      <td>Brazil</td>\n",
       "      <td>9/22/2021</td>\n",
       "      <td>2021</td>\n",
       "      <td>TV-PG</td>\n",
       "      <td>91 min</td>\n",
       "      <td>Children &amp; Family Movies, Comedies</td>\n",
       "    </tr>\n",
       "    <tr>\n",
       "      <th>4</th>\n",
       "      <td>s8</td>\n",
       "      <td>Movie</td>\n",
       "      <td>Sankofa</td>\n",
       "      <td>Haile Gerima</td>\n",
       "      <td>United States</td>\n",
       "      <td>9/24/2021</td>\n",
       "      <td>1993</td>\n",
       "      <td>TV-MA</td>\n",
       "      <td>125 min</td>\n",
       "      <td>Dramas, Independent Movies, International Movies</td>\n",
       "    </tr>\n",
       "    <tr>\n",
       "      <th>...</th>\n",
       "      <td>...</td>\n",
       "      <td>...</td>\n",
       "      <td>...</td>\n",
       "      <td>...</td>\n",
       "      <td>...</td>\n",
       "      <td>...</td>\n",
       "      <td>...</td>\n",
       "      <td>...</td>\n",
       "      <td>...</td>\n",
       "      <td>...</td>\n",
       "    </tr>\n",
       "    <tr>\n",
       "      <th>8785</th>\n",
       "      <td>s8797</td>\n",
       "      <td>TV Show</td>\n",
       "      <td>Yunus Emre</td>\n",
       "      <td>Not Given</td>\n",
       "      <td>Turkey</td>\n",
       "      <td>1/17/2017</td>\n",
       "      <td>2016</td>\n",
       "      <td>TV-PG</td>\n",
       "      <td>2 Seasons</td>\n",
       "      <td>International TV Shows, TV Dramas</td>\n",
       "    </tr>\n",
       "    <tr>\n",
       "      <th>8786</th>\n",
       "      <td>s8798</td>\n",
       "      <td>TV Show</td>\n",
       "      <td>Zak Storm</td>\n",
       "      <td>Not Given</td>\n",
       "      <td>United States</td>\n",
       "      <td>9/13/2018</td>\n",
       "      <td>2016</td>\n",
       "      <td>TV-Y7</td>\n",
       "      <td>3 Seasons</td>\n",
       "      <td>Kids' TV</td>\n",
       "    </tr>\n",
       "    <tr>\n",
       "      <th>8787</th>\n",
       "      <td>s8801</td>\n",
       "      <td>TV Show</td>\n",
       "      <td>Zindagi Gulzar Hai</td>\n",
       "      <td>Not Given</td>\n",
       "      <td>Pakistan</td>\n",
       "      <td>12/15/2016</td>\n",
       "      <td>2012</td>\n",
       "      <td>TV-PG</td>\n",
       "      <td>1 Season</td>\n",
       "      <td>International TV Shows, Romantic TV Shows, TV ...</td>\n",
       "    </tr>\n",
       "    <tr>\n",
       "      <th>8788</th>\n",
       "      <td>s8784</td>\n",
       "      <td>TV Show</td>\n",
       "      <td>Yoko</td>\n",
       "      <td>Not Given</td>\n",
       "      <td>Pakistan</td>\n",
       "      <td>6/23/2018</td>\n",
       "      <td>2016</td>\n",
       "      <td>TV-Y</td>\n",
       "      <td>1 Season</td>\n",
       "      <td>Kids' TV</td>\n",
       "    </tr>\n",
       "    <tr>\n",
       "      <th>8789</th>\n",
       "      <td>s8786</td>\n",
       "      <td>TV Show</td>\n",
       "      <td>YOM</td>\n",
       "      <td>Not Given</td>\n",
       "      <td>Pakistan</td>\n",
       "      <td>6/7/2018</td>\n",
       "      <td>2016</td>\n",
       "      <td>TV-Y7</td>\n",
       "      <td>1 Season</td>\n",
       "      <td>Kids' TV</td>\n",
       "    </tr>\n",
       "  </tbody>\n",
       "</table>\n",
       "<p>8790 rows × 10 columns</p>\n",
       "</div>"
      ],
      "text/plain": [
       "     show_id     type                             title         director  \\\n",
       "0         s1    Movie              Dick Johnson Is Dead  Kirsten Johnson   \n",
       "1         s3  TV Show                         Ganglands  Julien Leclercq   \n",
       "2         s6  TV Show                     Midnight Mass    Mike Flanagan   \n",
       "3        s14    Movie  Confessions of an Invisible Girl    Bruno Garotti   \n",
       "4         s8    Movie                           Sankofa     Haile Gerima   \n",
       "...      ...      ...                               ...              ...   \n",
       "8785   s8797  TV Show                        Yunus Emre        Not Given   \n",
       "8786   s8798  TV Show                         Zak Storm        Not Given   \n",
       "8787   s8801  TV Show                Zindagi Gulzar Hai        Not Given   \n",
       "8788   s8784  TV Show                              Yoko        Not Given   \n",
       "8789   s8786  TV Show                               YOM        Not Given   \n",
       "\n",
       "            country  date_added  release_year rating   duration  \\\n",
       "0     United States   9/25/2021          2020  PG-13     90 min   \n",
       "1            France   9/24/2021          2021  TV-MA   1 Season   \n",
       "2     United States   9/24/2021          2021  TV-MA   1 Season   \n",
       "3            Brazil   9/22/2021          2021  TV-PG     91 min   \n",
       "4     United States   9/24/2021          1993  TV-MA    125 min   \n",
       "...             ...         ...           ...    ...        ...   \n",
       "8785         Turkey   1/17/2017          2016  TV-PG  2 Seasons   \n",
       "8786  United States   9/13/2018          2016  TV-Y7  3 Seasons   \n",
       "8787       Pakistan  12/15/2016          2012  TV-PG   1 Season   \n",
       "8788       Pakistan   6/23/2018          2016   TV-Y   1 Season   \n",
       "8789       Pakistan    6/7/2018          2016  TV-Y7   1 Season   \n",
       "\n",
       "                                              listed_in  \n",
       "0                                         Documentaries  \n",
       "1     Crime TV Shows, International TV Shows, TV Act...  \n",
       "2                    TV Dramas, TV Horror, TV Mysteries  \n",
       "3                    Children & Family Movies, Comedies  \n",
       "4      Dramas, Independent Movies, International Movies  \n",
       "...                                                 ...  \n",
       "8785                  International TV Shows, TV Dramas  \n",
       "8786                                           Kids' TV  \n",
       "8787  International TV Shows, Romantic TV Shows, TV ...  \n",
       "8788                                           Kids' TV  \n",
       "8789                                           Kids' TV  \n",
       "\n",
       "[8790 rows x 10 columns]"
      ]
     },
     "execution_count": 134,
     "metadata": {},
     "output_type": "execute_result"
    }
   ],
   "source": [
    "df = pd.read_csv(\"C:/Zhivopis/netflix1.csv\")\n",
    "df"
   ]
  },
  {
   "cell_type": "code",
   "execution_count": 135,
   "id": "1e6ae8ae",
   "metadata": {},
   "outputs": [
    {
     "name": "stdout",
     "output_type": "stream",
     "text": [
      "<class 'pandas.core.frame.DataFrame'>\n",
      "RangeIndex: 8790 entries, 0 to 8789\n",
      "Data columns (total 10 columns):\n",
      " #   Column        Non-Null Count  Dtype \n",
      "---  ------        --------------  ----- \n",
      " 0   show_id       8790 non-null   object\n",
      " 1   type          8790 non-null   object\n",
      " 2   title         8790 non-null   object\n",
      " 3   director      8790 non-null   object\n",
      " 4   country       8790 non-null   object\n",
      " 5   date_added    8790 non-null   object\n",
      " 6   release_year  8790 non-null   int64 \n",
      " 7   rating        8790 non-null   object\n",
      " 8   duration      8790 non-null   object\n",
      " 9   listed_in     8790 non-null   object\n",
      "dtypes: int64(1), object(9)\n",
      "memory usage: 686.8+ KB\n"
     ]
    }
   ],
   "source": [
    "df.info()"
   ]
  },
  {
   "cell_type": "code",
   "execution_count": 136,
   "id": "99c7c89c",
   "metadata": {},
   "outputs": [
    {
     "data": {
      "text/html": [
       "<div>\n",
       "<style scoped>\n",
       "    .dataframe tbody tr th:only-of-type {\n",
       "        vertical-align: middle;\n",
       "    }\n",
       "\n",
       "    .dataframe tbody tr th {\n",
       "        vertical-align: top;\n",
       "    }\n",
       "\n",
       "    .dataframe thead th {\n",
       "        text-align: right;\n",
       "    }\n",
       "</style>\n",
       "<table border=\"1\" class=\"dataframe\">\n",
       "  <thead>\n",
       "    <tr style=\"text-align: right;\">\n",
       "      <th></th>\n",
       "      <th>show_id</th>\n",
       "      <th>type</th>\n",
       "      <th>title</th>\n",
       "      <th>director</th>\n",
       "      <th>country</th>\n",
       "      <th>date_added</th>\n",
       "      <th>release_year</th>\n",
       "      <th>rating</th>\n",
       "      <th>duration</th>\n",
       "      <th>listed_in</th>\n",
       "    </tr>\n",
       "  </thead>\n",
       "  <tbody>\n",
       "    <tr>\n",
       "      <th>count</th>\n",
       "      <td>8790</td>\n",
       "      <td>8790</td>\n",
       "      <td>8790</td>\n",
       "      <td>8790</td>\n",
       "      <td>8790</td>\n",
       "      <td>8790</td>\n",
       "      <td>8790.000000</td>\n",
       "      <td>8790</td>\n",
       "      <td>8790</td>\n",
       "      <td>8790</td>\n",
       "    </tr>\n",
       "    <tr>\n",
       "      <th>unique</th>\n",
       "      <td>8790</td>\n",
       "      <td>2</td>\n",
       "      <td>8787</td>\n",
       "      <td>4528</td>\n",
       "      <td>86</td>\n",
       "      <td>1713</td>\n",
       "      <td>NaN</td>\n",
       "      <td>14</td>\n",
       "      <td>220</td>\n",
       "      <td>513</td>\n",
       "    </tr>\n",
       "    <tr>\n",
       "      <th>top</th>\n",
       "      <td>s1</td>\n",
       "      <td>Movie</td>\n",
       "      <td>9-Feb</td>\n",
       "      <td>Not Given</td>\n",
       "      <td>United States</td>\n",
       "      <td>1/1/2020</td>\n",
       "      <td>NaN</td>\n",
       "      <td>TV-MA</td>\n",
       "      <td>1 Season</td>\n",
       "      <td>Dramas, International Movies</td>\n",
       "    </tr>\n",
       "    <tr>\n",
       "      <th>freq</th>\n",
       "      <td>1</td>\n",
       "      <td>6126</td>\n",
       "      <td>2</td>\n",
       "      <td>2588</td>\n",
       "      <td>3240</td>\n",
       "      <td>110</td>\n",
       "      <td>NaN</td>\n",
       "      <td>3205</td>\n",
       "      <td>1791</td>\n",
       "      <td>362</td>\n",
       "    </tr>\n",
       "    <tr>\n",
       "      <th>mean</th>\n",
       "      <td>NaN</td>\n",
       "      <td>NaN</td>\n",
       "      <td>NaN</td>\n",
       "      <td>NaN</td>\n",
       "      <td>NaN</td>\n",
       "      <td>NaN</td>\n",
       "      <td>2014.183163</td>\n",
       "      <td>NaN</td>\n",
       "      <td>NaN</td>\n",
       "      <td>NaN</td>\n",
       "    </tr>\n",
       "    <tr>\n",
       "      <th>std</th>\n",
       "      <td>NaN</td>\n",
       "      <td>NaN</td>\n",
       "      <td>NaN</td>\n",
       "      <td>NaN</td>\n",
       "      <td>NaN</td>\n",
       "      <td>NaN</td>\n",
       "      <td>8.825466</td>\n",
       "      <td>NaN</td>\n",
       "      <td>NaN</td>\n",
       "      <td>NaN</td>\n",
       "    </tr>\n",
       "    <tr>\n",
       "      <th>min</th>\n",
       "      <td>NaN</td>\n",
       "      <td>NaN</td>\n",
       "      <td>NaN</td>\n",
       "      <td>NaN</td>\n",
       "      <td>NaN</td>\n",
       "      <td>NaN</td>\n",
       "      <td>1925.000000</td>\n",
       "      <td>NaN</td>\n",
       "      <td>NaN</td>\n",
       "      <td>NaN</td>\n",
       "    </tr>\n",
       "    <tr>\n",
       "      <th>25%</th>\n",
       "      <td>NaN</td>\n",
       "      <td>NaN</td>\n",
       "      <td>NaN</td>\n",
       "      <td>NaN</td>\n",
       "      <td>NaN</td>\n",
       "      <td>NaN</td>\n",
       "      <td>2013.000000</td>\n",
       "      <td>NaN</td>\n",
       "      <td>NaN</td>\n",
       "      <td>NaN</td>\n",
       "    </tr>\n",
       "    <tr>\n",
       "      <th>50%</th>\n",
       "      <td>NaN</td>\n",
       "      <td>NaN</td>\n",
       "      <td>NaN</td>\n",
       "      <td>NaN</td>\n",
       "      <td>NaN</td>\n",
       "      <td>NaN</td>\n",
       "      <td>2017.000000</td>\n",
       "      <td>NaN</td>\n",
       "      <td>NaN</td>\n",
       "      <td>NaN</td>\n",
       "    </tr>\n",
       "    <tr>\n",
       "      <th>75%</th>\n",
       "      <td>NaN</td>\n",
       "      <td>NaN</td>\n",
       "      <td>NaN</td>\n",
       "      <td>NaN</td>\n",
       "      <td>NaN</td>\n",
       "      <td>NaN</td>\n",
       "      <td>2019.000000</td>\n",
       "      <td>NaN</td>\n",
       "      <td>NaN</td>\n",
       "      <td>NaN</td>\n",
       "    </tr>\n",
       "    <tr>\n",
       "      <th>max</th>\n",
       "      <td>NaN</td>\n",
       "      <td>NaN</td>\n",
       "      <td>NaN</td>\n",
       "      <td>NaN</td>\n",
       "      <td>NaN</td>\n",
       "      <td>NaN</td>\n",
       "      <td>2021.000000</td>\n",
       "      <td>NaN</td>\n",
       "      <td>NaN</td>\n",
       "      <td>NaN</td>\n",
       "    </tr>\n",
       "  </tbody>\n",
       "</table>\n",
       "</div>"
      ],
      "text/plain": [
       "       show_id   type  title   director        country date_added  \\\n",
       "count     8790   8790   8790       8790           8790       8790   \n",
       "unique    8790      2   8787       4528             86       1713   \n",
       "top         s1  Movie  9-Feb  Not Given  United States   1/1/2020   \n",
       "freq         1   6126      2       2588           3240        110   \n",
       "mean       NaN    NaN    NaN        NaN            NaN        NaN   \n",
       "std        NaN    NaN    NaN        NaN            NaN        NaN   \n",
       "min        NaN    NaN    NaN        NaN            NaN        NaN   \n",
       "25%        NaN    NaN    NaN        NaN            NaN        NaN   \n",
       "50%        NaN    NaN    NaN        NaN            NaN        NaN   \n",
       "75%        NaN    NaN    NaN        NaN            NaN        NaN   \n",
       "max        NaN    NaN    NaN        NaN            NaN        NaN   \n",
       "\n",
       "        release_year rating  duration                     listed_in  \n",
       "count    8790.000000   8790      8790                          8790  \n",
       "unique           NaN     14       220                           513  \n",
       "top              NaN  TV-MA  1 Season  Dramas, International Movies  \n",
       "freq             NaN   3205      1791                           362  \n",
       "mean     2014.183163    NaN       NaN                           NaN  \n",
       "std         8.825466    NaN       NaN                           NaN  \n",
       "min      1925.000000    NaN       NaN                           NaN  \n",
       "25%      2013.000000    NaN       NaN                           NaN  \n",
       "50%      2017.000000    NaN       NaN                           NaN  \n",
       "75%      2019.000000    NaN       NaN                           NaN  \n",
       "max      2021.000000    NaN       NaN                           NaN  "
      ]
     },
     "execution_count": 136,
     "metadata": {},
     "output_type": "execute_result"
    }
   ],
   "source": [
    "df.describe(include = \"all\")"
   ]
  },
  {
   "cell_type": "code",
   "execution_count": 137,
   "id": "ea5305a7",
   "metadata": {
    "scrolled": false
   },
   "outputs": [
    {
     "data": {
      "image/png": "[encoded data removed]",
      "text/plain": [
       "<Figure size 1000x500 with 1 Axes>"
      ]
     },
     "metadata": {},
     "output_type": "display_data"
    }
   ],
   "source": [
    "plt.figure(figsize=(10,5))\n",
    "show_type=df[\"type\"].value_counts()\n",
    "explode={0,0.1}\n",
    "ax=show_type.plot(kind=\"pie\", explode=explode ,colors =sns.color_palette('deep') ,autopct=\"%0.1f%%\",labels=show_type,shadow=True);\n",
    "plt.legend(labels=df[\"type\"]);\n",
    "plt.axis('equal')\n",
    "plt.title(\"Процент фильмов и тв-шоу \\n\\n\\n\")\n",
    "plt.show()"
   ]
  },
  {
   "cell_type": "code",
   "execution_count": 138,
   "id": "4dfaa458",
   "metadata": {},
   "outputs": [
    {
     "data": {
      "text/plain": [
       "Index(['show_id', 'type', 'title', 'director', 'country', 'date_added',\n",
       "       'release_year', 'rating', 'duration', 'listed_in'],\n",
       "      dtype='object')"
      ]
     },
     "execution_count": 138,
     "metadata": {},
     "output_type": "execute_result"
    }
   ],
   "source": [
    "Netflix_columns = df.columns\n",
    "Netflix_columns"
   ]
  },
  {
   "cell_type": "markdown",
   "id": "5724211c",
   "metadata": {},
   "source": [
    "# Задача 1 Анализ данных Нетфликса"
   ]
  },
  {
   "cell_type": "markdown",
   "id": "b9b4e028",
   "metadata": {},
   "source": [
    "### Описание данных. Изучение и расшифрование столбцов данных "
   ]
  },
  {
   "cell_type": "code",
   "execution_count": 139,
   "id": "fea3266f",
   "metadata": {},
   "outputs": [],
   "source": [
    "# Функция для прохода по столбцам\n",
    "def learn_columns (column_number):\n",
    "    for i in Netflix_columns:\n",
    "        if Netflix_columns[column_number - 1] == i:\n",
    "            print(i)\n",
    "            display(df[i])"
   ]
  },
  {
   "cell_type": "code",
   "execution_count": 140,
   "id": "385f6c4d",
   "metadata": {
    "scrolled": false
   },
   "outputs": [
    {
     "name": "stdout",
     "output_type": "stream",
     "text": [
      "show_id\n"
     ]
    },
    {
     "data": {
      "text/plain": [
       "0          s1\n",
       "1          s3\n",
       "2          s6\n",
       "3         s14\n",
       "4          s8\n",
       "        ...  \n",
       "8785    s8797\n",
       "8786    s8798\n",
       "8787    s8801\n",
       "8788    s8784\n",
       "8789    s8786\n",
       "Name: show_id, Length: 8790, dtype: object"
      ]
     },
     "metadata": {},
     "output_type": "display_data"
    }
   ],
   "source": [
    "learn_columns(1)"
   ]
  },
  {
   "cell_type": "markdown",
   "id": "8bb9b24a",
   "metadata": {},
   "source": [
    "**show_id - Столбец с уникальными номерами фильмов или тв-шоу**"
   ]
  },
  {
   "cell_type": "code",
   "execution_count": 141,
   "id": "8ca235e0",
   "metadata": {
    "scrolled": true
   },
   "outputs": [
    {
     "name": "stdout",
     "output_type": "stream",
     "text": [
      "type\n"
     ]
    },
    {
     "data": {
      "text/plain": [
       "0         Movie\n",
       "1       TV Show\n",
       "2       TV Show\n",
       "3         Movie\n",
       "4         Movie\n",
       "         ...   \n",
       "8785    TV Show\n",
       "8786    TV Show\n",
       "8787    TV Show\n",
       "8788    TV Show\n",
       "8789    TV Show\n",
       "Name: type, Length: 8790, dtype: object"
      ]
     },
     "metadata": {},
     "output_type": "display_data"
    }
   ],
   "source": [
    "learn_columns(2)"
   ]
  },
  {
   "cell_type": "markdown",
   "id": "6cd479ca",
   "metadata": {},
   "source": [
    "**type - Столбец с типом продукта (фильм или тв-шоу)**"
   ]
  },
  {
   "cell_type": "code",
   "execution_count": 142,
   "id": "f6226b13",
   "metadata": {},
   "outputs": [
    {
     "name": "stdout",
     "output_type": "stream",
     "text": [
      "title\n"
     ]
    },
    {
     "data": {
      "text/plain": [
       "0                   Dick Johnson Is Dead\n",
       "1                              Ganglands\n",
       "2                          Midnight Mass\n",
       "3       Confessions of an Invisible Girl\n",
       "4                                Sankofa\n",
       "                      ...               \n",
       "8785                          Yunus Emre\n",
       "8786                           Zak Storm\n",
       "8787                  Zindagi Gulzar Hai\n",
       "8788                                Yoko\n",
       "8789                                 YOM\n",
       "Name: title, Length: 8790, dtype: object"
      ]
     },
     "metadata": {},
     "output_type": "display_data"
    }
   ],
   "source": [
    "learn_columns(3)"
   ]
  },
  {
   "cell_type": "markdown",
   "id": "6075734b",
   "metadata": {},
   "source": [
    "**title - Столбец с названием фильма или тв-шоу**"
   ]
  },
  {
   "cell_type": "code",
   "execution_count": 143,
   "id": "f20a730c",
   "metadata": {},
   "outputs": [
    {
     "name": "stdout",
     "output_type": "stream",
     "text": [
      "director\n"
     ]
    },
    {
     "data": {
      "text/plain": [
       "0       Kirsten Johnson\n",
       "1       Julien Leclercq\n",
       "2         Mike Flanagan\n",
       "3         Bruno Garotti\n",
       "4          Haile Gerima\n",
       "             ...       \n",
       "8785          Not Given\n",
       "8786          Not Given\n",
       "8787          Not Given\n",
       "8788          Not Given\n",
       "8789          Not Given\n",
       "Name: director, Length: 8790, dtype: object"
      ]
     },
     "metadata": {},
     "output_type": "display_data"
    }
   ],
   "source": [
    "learn_columns(4)"
   ]
  },
  {
   "cell_type": "markdown",
   "id": "2add2394",
   "metadata": {},
   "source": [
    "**director - Столбец с названием режиссера фильма или тв-шоу**"
   ]
  },
  {
   "cell_type": "code",
   "execution_count": 144,
   "id": "a991910f",
   "metadata": {},
   "outputs": [
    {
     "name": "stdout",
     "output_type": "stream",
     "text": [
      "country\n"
     ]
    },
    {
     "data": {
      "text/plain": [
       "0       United States\n",
       "1              France\n",
       "2       United States\n",
       "3              Brazil\n",
       "4       United States\n",
       "            ...      \n",
       "8785           Turkey\n",
       "8786    United States\n",
       "8787         Pakistan\n",
       "8788         Pakistan\n",
       "8789         Pakistan\n",
       "Name: country, Length: 8790, dtype: object"
      ]
     },
     "metadata": {},
     "output_type": "display_data"
    }
   ],
   "source": [
    "learn_columns(5)"
   ]
  },
  {
   "cell_type": "markdown",
   "id": "220f8ade",
   "metadata": {},
   "source": [
    "**country - Столбец со страной-производителем фильма или тв-шоу**"
   ]
  },
  {
   "cell_type": "code",
   "execution_count": 145,
   "id": "b26191b0",
   "metadata": {},
   "outputs": [
    {
     "name": "stdout",
     "output_type": "stream",
     "text": [
      "date_added\n"
     ]
    },
    {
     "data": {
      "text/plain": [
       "0        9/25/2021\n",
       "1        9/24/2021\n",
       "2        9/24/2021\n",
       "3        9/22/2021\n",
       "4        9/24/2021\n",
       "           ...    \n",
       "8785     1/17/2017\n",
       "8786     9/13/2018\n",
       "8787    12/15/2016\n",
       "8788     6/23/2018\n",
       "8789      6/7/2018\n",
       "Name: date_added, Length: 8790, dtype: object"
      ]
     },
     "metadata": {},
     "output_type": "display_data"
    }
   ],
   "source": [
    "learn_columns(6)"
   ]
  },
  {
   "cell_type": "markdown",
   "id": "334d2fd7",
   "metadata": {},
   "source": [
    "**date_added - Столбец с датой добавления на сайт фильма или тв-шоу**"
   ]
  },
  {
   "cell_type": "code",
   "execution_count": 146,
   "id": "ac9739ec",
   "metadata": {},
   "outputs": [
    {
     "name": "stdout",
     "output_type": "stream",
     "text": [
      "release_year\n"
     ]
    },
    {
     "data": {
      "text/plain": [
       "0       2020\n",
       "1       2021\n",
       "2       2021\n",
       "3       2021\n",
       "4       1993\n",
       "        ... \n",
       "8785    2016\n",
       "8786    2016\n",
       "8787    2012\n",
       "8788    2016\n",
       "8789    2016\n",
       "Name: release_year, Length: 8790, dtype: int64"
      ]
     },
     "metadata": {},
     "output_type": "display_data"
    }
   ],
   "source": [
    "learn_columns(7)"
   ]
  },
  {
   "cell_type": "markdown",
   "id": "b028595d",
   "metadata": {},
   "source": [
    "**release_year - Столбец с годом выхода фильма или тв-шоу**"
   ]
  },
  {
   "cell_type": "code",
   "execution_count": 147,
   "id": "091f0a1c",
   "metadata": {},
   "outputs": [
    {
     "name": "stdout",
     "output_type": "stream",
     "text": [
      "rating\n"
     ]
    },
    {
     "data": {
      "text/plain": [
       "0       PG-13\n",
       "1       TV-MA\n",
       "2       TV-MA\n",
       "3       TV-PG\n",
       "4       TV-MA\n",
       "        ...  \n",
       "8785    TV-PG\n",
       "8786    TV-Y7\n",
       "8787    TV-PG\n",
       "8788     TV-Y\n",
       "8789    TV-Y7\n",
       "Name: rating, Length: 8790, dtype: object"
      ]
     },
     "metadata": {},
     "output_type": "display_data"
    }
   ],
   "source": [
    "learn_columns(8)"
   ]
  },
  {
   "cell_type": "markdown",
   "id": "264be0c4",
   "metadata": {},
   "source": [
    "**rating - Столбец с рейтингом фильма или тв-шоу**"
   ]
  },
  {
   "cell_type": "code",
   "execution_count": 148,
   "id": "39621322",
   "metadata": {},
   "outputs": [
    {
     "name": "stdout",
     "output_type": "stream",
     "text": [
      "duration\n"
     ]
    },
    {
     "data": {
      "text/plain": [
       "0          90 min\n",
       "1        1 Season\n",
       "2        1 Season\n",
       "3          91 min\n",
       "4         125 min\n",
       "          ...    \n",
       "8785    2 Seasons\n",
       "8786    3 Seasons\n",
       "8787     1 Season\n",
       "8788     1 Season\n",
       "8789     1 Season\n",
       "Name: duration, Length: 8790, dtype: object"
      ]
     },
     "metadata": {},
     "output_type": "display_data"
    }
   ],
   "source": [
    "learn_columns(9)"
   ]
  },
  {
   "cell_type": "markdown",
   "id": "640d7d11",
   "metadata": {},
   "source": [
    "**duration - Столбец с длительностью фильма или тв-шоу**"
   ]
  },
  {
   "cell_type": "code",
   "execution_count": 149,
   "id": "e219c4a5",
   "metadata": {},
   "outputs": [
    {
     "name": "stdout",
     "output_type": "stream",
     "text": [
      "listed_in\n"
     ]
    },
    {
     "data": {
      "text/plain": [
       "0                                           Documentaries\n",
       "1       Crime TV Shows, International TV Shows, TV Act...\n",
       "2                      TV Dramas, TV Horror, TV Mysteries\n",
       "3                      Children & Family Movies, Comedies\n",
       "4        Dramas, Independent Movies, International Movies\n",
       "                              ...                        \n",
       "8785                    International TV Shows, TV Dramas\n",
       "8786                                             Kids' TV\n",
       "8787    International TV Shows, Romantic TV Shows, TV ...\n",
       "8788                                             Kids' TV\n",
       "8789                                             Kids' TV\n",
       "Name: listed_in, Length: 8790, dtype: object"
      ]
     },
     "metadata": {},
     "output_type": "display_data"
    }
   ],
   "source": [
    "learn_columns(10)"
   ]
  },
  {
   "cell_type": "markdown",
   "id": "48d79bde",
   "metadata": {},
   "source": [
    "**listed_in - Столбец с жанром(жанрами) фильма или тв-шоу**"
   ]
  },
  {
   "cell_type": "markdown",
   "id": "69ed99d0",
   "metadata": {},
   "source": [
    "### Предобработка данных"
   ]
  },
  {
   "cell_type": "code",
   "execution_count": 150,
   "id": "dfefd6ed",
   "metadata": {},
   "outputs": [
    {
     "data": {
      "text/plain": [
       "0"
      ]
     },
     "execution_count": 150,
     "metadata": {},
     "output_type": "execute_result"
    }
   ],
   "source": [
    "df.duplicated().sum()"
   ]
  },
  {
   "cell_type": "code",
   "execution_count": 151,
   "id": "ab23faba",
   "metadata": {},
   "outputs": [],
   "source": [
    "df['date_added'] = pd.to_datetime(df['date_added'])"
   ]
  },
  {
   "cell_type": "code",
   "execution_count": 152,
   "id": "44627cec",
   "metadata": {},
   "outputs": [
    {
     "data": {
      "text/html": [
       "<div>\n",
       "<style scoped>\n",
       "    .dataframe tbody tr th:only-of-type {\n",
       "        vertical-align: middle;\n",
       "    }\n",
       "\n",
       "    .dataframe tbody tr th {\n",
       "        vertical-align: top;\n",
       "    }\n",
       "\n",
       "    .dataframe thead th {\n",
       "        text-align: right;\n",
       "    }\n",
       "</style>\n",
       "<table border=\"1\" class=\"dataframe\">\n",
       "  <thead>\n",
       "    <tr style=\"text-align: right;\">\n",
       "      <th></th>\n",
       "      <th>show_id</th>\n",
       "      <th>type</th>\n",
       "      <th>title</th>\n",
       "      <th>director</th>\n",
       "      <th>country</th>\n",
       "      <th>date_added</th>\n",
       "      <th>release_year</th>\n",
       "      <th>rating</th>\n",
       "      <th>duration</th>\n",
       "      <th>listed_in</th>\n",
       "    </tr>\n",
       "  </thead>\n",
       "  <tbody>\n",
       "    <tr>\n",
       "      <th>0</th>\n",
       "      <td>s1</td>\n",
       "      <td>Movie</td>\n",
       "      <td>Dick Johnson Is Dead</td>\n",
       "      <td>Kirsten Johnson</td>\n",
       "      <td>United States</td>\n",
       "      <td>2021-09-25</td>\n",
       "      <td>2020</td>\n",
       "      <td>PG-13</td>\n",
       "      <td>90 min</td>\n",
       "      <td>Documentaries</td>\n",
       "    </tr>\n",
       "    <tr>\n",
       "      <th>1</th>\n",
       "      <td>s3</td>\n",
       "      <td>TV Show</td>\n",
       "      <td>Ganglands</td>\n",
       "      <td>Julien Leclercq</td>\n",
       "      <td>France</td>\n",
       "      <td>2021-09-24</td>\n",
       "      <td>2021</td>\n",
       "      <td>TV-MA</td>\n",
       "      <td>1 Season</td>\n",
       "      <td>Crime TV Shows, International TV Shows, TV Act...</td>\n",
       "    </tr>\n",
       "    <tr>\n",
       "      <th>2</th>\n",
       "      <td>s6</td>\n",
       "      <td>TV Show</td>\n",
       "      <td>Midnight Mass</td>\n",
       "      <td>Mike Flanagan</td>\n",
       "      <td>United States</td>\n",
       "      <td>2021-09-24</td>\n",
       "      <td>2021</td>\n",
       "      <td>TV-MA</td>\n",
       "      <td>1 Season</td>\n",
       "      <td>TV Dramas, TV Horror, TV Mysteries</td>\n",
       "    </tr>\n",
       "    <tr>\n",
       "      <th>3</th>\n",
       "      <td>s14</td>\n",
       "      <td>Movie</td>\n",
       "      <td>Confessions of an Invisible Girl</td>\n",
       "      <td>Bruno Garotti</td>\n",
       "      <td>Brazil</td>\n",
       "      <td>2021-09-22</td>\n",
       "      <td>2021</td>\n",
       "      <td>TV-PG</td>\n",
       "      <td>91 min</td>\n",
       "      <td>Children &amp; Family Movies, Comedies</td>\n",
       "    </tr>\n",
       "    <tr>\n",
       "      <th>4</th>\n",
       "      <td>s8</td>\n",
       "      <td>Movie</td>\n",
       "      <td>Sankofa</td>\n",
       "      <td>Haile Gerima</td>\n",
       "      <td>United States</td>\n",
       "      <td>2021-09-24</td>\n",
       "      <td>1993</td>\n",
       "      <td>TV-MA</td>\n",
       "      <td>125 min</td>\n",
       "      <td>Dramas, Independent Movies, International Movies</td>\n",
       "    </tr>\n",
       "    <tr>\n",
       "      <th>...</th>\n",
       "      <td>...</td>\n",
       "      <td>...</td>\n",
       "      <td>...</td>\n",
       "      <td>...</td>\n",
       "      <td>...</td>\n",
       "      <td>...</td>\n",
       "      <td>...</td>\n",
       "      <td>...</td>\n",
       "      <td>...</td>\n",
       "      <td>...</td>\n",
       "    </tr>\n",
       "    <tr>\n",
       "      <th>8785</th>\n",
       "      <td>s8797</td>\n",
       "      <td>TV Show</td>\n",
       "      <td>Yunus Emre</td>\n",
       "      <td>Not Given</td>\n",
       "      <td>Turkey</td>\n",
       "      <td>2017-01-17</td>\n",
       "      <td>2016</td>\n",
       "      <td>TV-PG</td>\n",
       "      <td>2 Seasons</td>\n",
       "      <td>International TV Shows, TV Dramas</td>\n",
       "    </tr>\n",
       "    <tr>\n",
       "      <th>8786</th>\n",
       "      <td>s8798</td>\n",
       "      <td>TV Show</td>\n",
       "      <td>Zak Storm</td>\n",
       "      <td>Not Given</td>\n",
       "      <td>United States</td>\n",
       "      <td>2018-09-13</td>\n",
       "      <td>2016</td>\n",
       "      <td>TV-Y7</td>\n",
       "      <td>3 Seasons</td>\n",
       "      <td>Kids' TV</td>\n",
       "    </tr>\n",
       "    <tr>\n",
       "      <th>8787</th>\n",
       "      <td>s8801</td>\n",
       "      <td>TV Show</td>\n",
       "      <td>Zindagi Gulzar Hai</td>\n",
       "      <td>Not Given</td>\n",
       "      <td>Pakistan</td>\n",
       "      <td>2016-12-15</td>\n",
       "      <td>2012</td>\n",
       "      <td>TV-PG</td>\n",
       "      <td>1 Season</td>\n",
       "      <td>International TV Shows, Romantic TV Shows, TV ...</td>\n",
       "    </tr>\n",
       "    <tr>\n",
       "      <th>8788</th>\n",
       "      <td>s8784</td>\n",
       "      <td>TV Show</td>\n",
       "      <td>Yoko</td>\n",
       "      <td>Not Given</td>\n",
       "      <td>Pakistan</td>\n",
       "      <td>2018-06-23</td>\n",
       "      <td>2016</td>\n",
       "      <td>TV-Y</td>\n",
       "      <td>1 Season</td>\n",
       "      <td>Kids' TV</td>\n",
       "    </tr>\n",
       "    <tr>\n",
       "      <th>8789</th>\n",
       "      <td>s8786</td>\n",
       "      <td>TV Show</td>\n",
       "      <td>YOM</td>\n",
       "      <td>Not Given</td>\n",
       "      <td>Pakistan</td>\n",
       "      <td>2018-06-07</td>\n",
       "      <td>2016</td>\n",
       "      <td>TV-Y7</td>\n",
       "      <td>1 Season</td>\n",
       "      <td>Kids' TV</td>\n",
       "    </tr>\n",
       "  </tbody>\n",
       "</table>\n",
       "<p>8790 rows × 10 columns</p>\n",
       "</div>"
      ],
      "text/plain": [
       "     show_id     type                             title         director  \\\n",
       "0         s1    Movie              Dick Johnson Is Dead  Kirsten Johnson   \n",
       "1         s3  TV Show                         Ganglands  Julien Leclercq   \n",
       "2         s6  TV Show                     Midnight Mass    Mike Flanagan   \n",
       "3        s14    Movie  Confessions of an Invisible Girl    Bruno Garotti   \n",
       "4         s8    Movie                           Sankofa     Haile Gerima   \n",
       "...      ...      ...                               ...              ...   \n",
       "8785   s8797  TV Show                        Yunus Emre        Not Given   \n",
       "8786   s8798  TV Show                         Zak Storm        Not Given   \n",
       "8787   s8801  TV Show                Zindagi Gulzar Hai        Not Given   \n",
       "8788   s8784  TV Show                              Yoko        Not Given   \n",
       "8789   s8786  TV Show                               YOM        Not Given   \n",
       "\n",
       "            country date_added  release_year rating   duration  \\\n",
       "0     United States 2021-09-25          2020  PG-13     90 min   \n",
       "1            France 2021-09-24          2021  TV-MA   1 Season   \n",
       "2     United States 2021-09-24          2021  TV-MA   1 Season   \n",
       "3            Brazil 2021-09-22          2021  TV-PG     91 min   \n",
       "4     United States 2021-09-24          1993  TV-MA    125 min   \n",
       "...             ...        ...           ...    ...        ...   \n",
       "8785         Turkey 2017-01-17          2016  TV-PG  2 Seasons   \n",
       "8786  United States 2018-09-13          2016  TV-Y7  3 Seasons   \n",
       "8787       Pakistan 2016-12-15          2012  TV-PG   1 Season   \n",
       "8788       Pakistan 2018-06-23          2016   TV-Y   1 Season   \n",
       "8789       Pakistan 2018-06-07          2016  TV-Y7   1 Season   \n",
       "\n",
       "                                              listed_in  \n",
       "0                                         Documentaries  \n",
       "1     Crime TV Shows, International TV Shows, TV Act...  \n",
       "2                    TV Dramas, TV Horror, TV Mysteries  \n",
       "3                    Children & Family Movies, Comedies  \n",
       "4      Dramas, Independent Movies, International Movies  \n",
       "...                                                 ...  \n",
       "8785                  International TV Shows, TV Dramas  \n",
       "8786                                           Kids' TV  \n",
       "8787  International TV Shows, Romantic TV Shows, TV ...  \n",
       "8788                                           Kids' TV  \n",
       "8789                                           Kids' TV  \n",
       "\n",
       "[8790 rows x 10 columns]"
      ]
     },
     "execution_count": 152,
     "metadata": {},
     "output_type": "execute_result"
    }
   ],
   "source": [
    "df"
   ]
  },
  {
   "cell_type": "code",
   "execution_count": 153,
   "id": "06e07c66",
   "metadata": {},
   "outputs": [
    {
     "data": {
      "text/plain": [
       "show_id         0\n",
       "type            0\n",
       "title           0\n",
       "director        0\n",
       "country         0\n",
       "date_added      0\n",
       "release_year    0\n",
       "rating          0\n",
       "duration        0\n",
       "listed_in       0\n",
       "dtype: int64"
      ]
     },
     "execution_count": 153,
     "metadata": {},
     "output_type": "execute_result"
    }
   ],
   "source": [
    "df.isna().sum()"
   ]
  },
  {
   "cell_type": "markdown",
   "id": "52deb722",
   "metadata": {},
   "source": [
    "### Исследовательский анализ данных (EDA)"
   ]
  },
  {
   "cell_type": "code",
   "execution_count": 154,
   "id": "f0c1bf43",
   "metadata": {},
   "outputs": [
    {
     "data": {
      "image/png": "[encoded data removed]",
      "text/plain": [
       "<Figure size 1000x500 with 1 Axes>"
      ]
     },
     "metadata": {},
     "output_type": "display_data"
    }
   ],
   "source": [
    "plt.figure(figsize=(10,5))\n",
    "show_type=df[\"type\"].value_counts()\n",
    "explode={0,0.1}\n",
    "ax=show_type.plot(kind=\"pie\", explode=explode ,colors =sns.color_palette('deep') ,autopct=\"%0.1f%%\",labels=show_type,shadow=True);\n",
    "plt.legend(labels=df[\"type\"]);\n",
    "plt.axis('equal')\n",
    "plt.title(\"Процент фильмов и тв-шоу \\n\\n\\n\")\n",
    "plt.show()"
   ]
  },
  {
   "cell_type": "code",
   "execution_count": 155,
   "id": "6e9a0d04",
   "metadata": {},
   "outputs": [
    {
     "data": {
      "text/plain": [
       "Not Given                 2588\n",
       "Rajiv Chilaka               20\n",
       "Alastair Fothergill         18\n",
       "Raúl Campos, Jan Suter      18\n",
       "Suhas Kadav                 16\n",
       "Name: director, dtype: int64"
      ]
     },
     "execution_count": 155,
     "metadata": {},
     "output_type": "execute_result"
    }
   ],
   "source": [
    "directors = df['director'].value_counts()\n",
    "directors.head()"
   ]
  },
  {
   "cell_type": "code",
   "execution_count": 156,
   "id": "1da39e4a",
   "metadata": {},
   "outputs": [
    {
     "name": "stdout",
     "output_type": "stream",
     "text": [
      "Количество известных режиссеров 6202\n"
     ]
    }
   ],
   "source": [
    "sum_of_given_directors = directors.sum()-directors[0]\n",
    "print(f\"Количество известных режиссеров {sum_of_given_directors}\")"
   ]
  },
  {
   "cell_type": "code",
   "execution_count": 157,
   "id": "4445d2fe",
   "metadata": {},
   "outputs": [
    {
     "data": {
      "image/png": "[encoded data removed]",
      "text/plain": [
       "<Figure size 640x480 with 1 Axes>"
      ]
     },
     "metadata": {},
     "output_type": "display_data"
    }
   ],
   "source": [
    "labels = ['Неизвестные', 'Известные']\n",
    "sizes = [directors[0], sum_of_given_directors]\n",
    "colors = ['#4287f5', '#f54287']\n",
    "\n",
    "plt.pie(sizes, labels=labels, colors=colors, autopct='%0.1f%%')\n",
    "plt.title('Процент известных и неизвестных режиссеров')\n",
    "plt.show()"
   ]
  },
  {
   "cell_type": "code",
   "execution_count": 158,
   "id": "b0395693",
   "metadata": {},
   "outputs": [
    {
     "data": {
      "application/vnd.plotly.v1+json": {
       "config": {
        "plotlyServerURL": "https://plot.ly"
       },
       "data": [
        {
         "alignmentgroup": "True",
         "hovertemplate": "Режиссеры=%{y}<br>Количество фильмов или тв-шоу на сайте=%{x}<extra></extra>",
         "legendgroup": "Rajiv Chilaka",
         "marker": {
          "color": "#440154",
          "pattern": {
           "shape": ""
          }
         },
         "name": "Rajiv Chilaka",
         "offsetgroup": "Rajiv Chilaka",
         "orientation": "h",
         "showlegend": true,
         "textposition": "auto",
         "texttemplate": "%{x}",
         "type": "bar",
         "x": [
          20
         ],
         "xaxis": "x",
         "y": [
          "Rajiv Chilaka"
         ],
         "yaxis": "y"
        },
        {
         "alignmentgroup": "True",
         "hovertemplate": "Режиссеры=%{y}<br>Количество фильмов или тв-шоу на сайте=%{x}<extra></extra>",
         "legendgroup": "Alastair Fothergill",
         "marker": {
          "color": "#482878",
          "pattern": {
           "shape": ""
          }
         },
         "name": "Alastair Fothergill",
         "offsetgroup": "Alastair Fothergill",
         "orientation": "h",
         "showlegend": true,
         "textposition": "auto",
         "texttemplate": "%{x}",
         "type": "bar",
         "x": [
          18
         ],
         "xaxis": "x",
         "y": [
          "Alastair Fothergill"
         ],
         "yaxis": "y"
        },
        {
         "alignmentgroup": "True",
         "hovertemplate": "Режиссеры=%{y}<br>Количество фильмов или тв-шоу на сайте=%{x}<extra></extra>",
         "legendgroup": "Raúl Campos, Jan Suter",
         "marker": {
          "color": "#3e4989",
          "pattern": {
           "shape": ""
          }
         },
         "name": "Raúl Campos, Jan Suter",
         "offsetgroup": "Raúl Campos, Jan Suter",
         "orientation": "h",
         "showlegend": true,
         "textposition": "auto",
         "texttemplate": "%{x}",
         "type": "bar",
         "x": [
          18
         ],
         "xaxis": "x",
         "y": [
          "Raúl Campos, Jan Suter"
         ],
         "yaxis": "y"
        },
        {
         "alignmentgroup": "True",
         "hovertemplate": "Режиссеры=%{y}<br>Количество фильмов или тв-шоу на сайте=%{x}<extra></extra>",
         "legendgroup": "Suhas Kadav",
         "marker": {
          "color": "#31688e",
          "pattern": {
           "shape": ""
          }
         },
         "name": "Suhas Kadav",
         "offsetgroup": "Suhas Kadav",
         "orientation": "h",
         "showlegend": true,
         "textposition": "auto",
         "texttemplate": "%{x}",
         "type": "bar",
         "x": [
          16
         ],
         "xaxis": "x",
         "y": [
          "Suhas Kadav"
         ],
         "yaxis": "y"
        },
        {
         "alignmentgroup": "True",
         "hovertemplate": "Режиссеры=%{y}<br>Количество фильмов или тв-шоу на сайте=%{x}<extra></extra>",
         "legendgroup": "Marcus Raboy",
         "marker": {
          "color": "#26828e",
          "pattern": {
           "shape": ""
          }
         },
         "name": "Marcus Raboy",
         "offsetgroup": "Marcus Raboy",
         "orientation": "h",
         "showlegend": true,
         "textposition": "auto",
         "texttemplate": "%{x}",
         "type": "bar",
         "x": [
          16
         ],
         "xaxis": "x",
         "y": [
          "Marcus Raboy"
         ],
         "yaxis": "y"
        },
        {
         "alignmentgroup": "True",
         "hovertemplate": "Режиссеры=%{y}<br>Количество фильмов или тв-шоу на сайте=%{x}<extra></extra>",
         "legendgroup": "Jay Karas",
         "marker": {
          "color": "#1f9e89",
          "pattern": {
           "shape": ""
          }
         },
         "name": "Jay Karas",
         "offsetgroup": "Jay Karas",
         "orientation": "h",
         "showlegend": true,
         "textposition": "auto",
         "texttemplate": "%{x}",
         "type": "bar",
         "x": [
          14
         ],
         "xaxis": "x",
         "y": [
          "Jay Karas"
         ],
         "yaxis": "y"
        },
        {
         "alignmentgroup": "True",
         "hovertemplate": "Режиссеры=%{y}<br>Количество фильмов или тв-шоу на сайте=%{x}<extra></extra>",
         "legendgroup": "Cathy Garcia-Molina",
         "marker": {
          "color": "#35b779",
          "pattern": {
           "shape": ""
          }
         },
         "name": "Cathy Garcia-Molina",
         "offsetgroup": "Cathy Garcia-Molina",
         "orientation": "h",
         "showlegend": true,
         "textposition": "auto",
         "texttemplate": "%{x}",
         "type": "bar",
         "x": [
          13
         ],
         "xaxis": "x",
         "y": [
          "Cathy Garcia-Molina"
         ],
         "yaxis": "y"
        },
        {
         "alignmentgroup": "True",
         "hovertemplate": "Режиссеры=%{y}<br>Количество фильмов или тв-шоу на сайте=%{x}<extra></extra>",
         "legendgroup": "Martin Scorsese",
         "marker": {
          "color": "#6ece58",
          "pattern": {
           "shape": ""
          }
         },
         "name": "Martin Scorsese",
         "offsetgroup": "Martin Scorsese",
         "orientation": "h",
         "showlegend": true,
         "textposition": "auto",
         "texttemplate": "%{x}",
         "type": "bar",
         "x": [
          12
         ],
         "xaxis": "x",
         "y": [
          "Martin Scorsese"
         ],
         "yaxis": "y"
        },
        {
         "alignmentgroup": "True",
         "hovertemplate": "Режиссеры=%{y}<br>Количество фильмов или тв-шоу на сайте=%{x}<extra></extra>",
         "legendgroup": "Youssef Chahine",
         "marker": {
          "color": "#b5de2b",
          "pattern": {
           "shape": ""
          }
         },
         "name": "Youssef Chahine",
         "offsetgroup": "Youssef Chahine",
         "orientation": "h",
         "showlegend": true,
         "textposition": "auto",
         "texttemplate": "%{x}",
         "type": "bar",
         "x": [
          12
         ],
         "xaxis": "x",
         "y": [
          "Youssef Chahine"
         ],
         "yaxis": "y"
        },
        {
         "alignmentgroup": "True",
         "hovertemplate": "Режиссеры=%{y}<br>Количество фильмов или тв-шоу на сайте=%{x}<extra></extra>",
         "legendgroup": "Jay Chapman",
         "marker": {
          "color": "#fde725",
          "pattern": {
           "shape": ""
          }
         },
         "name": "Jay Chapman",
         "offsetgroup": "Jay Chapman",
         "orientation": "h",
         "showlegend": true,
         "textposition": "auto",
         "texttemplate": "%{x}",
         "type": "bar",
         "x": [
          12
         ],
         "xaxis": "x",
         "y": [
          "Jay Chapman"
         ],
         "yaxis": "y"
        }
       ],
       "layout": {
        "barmode": "relative",
        "legend": {
         "title": {
          "text": "Режиссеры"
         },
         "tracegroupgap": 0
        },
        "margin": {
         "t": 60
        },
        "template": {
         "data": {
          "bar": [
           {
            "error_x": {
             "color": "#2a3f5f"
            },
            "error_y": {
             "color": "#2a3f5f"
            },
            "marker": {
             "line": {
              "color": "#E5ECF6",
              "width": 0.5
             },
             "pattern": {
              "fillmode": "overlay",
              "size": 10,
              "solidity": 0.2
             }
            },
            "type": "bar"
           }
          ],
          "barpolar": [
           {
            "marker": {
             "line": {
              "color": "#E5ECF6",
              "width": 0.5
             },
             "pattern": {
              "fillmode": "overlay",
              "size": 10,
              "solidity": 0.2
             }
            },
            "type": "barpolar"
           }
          ],
          "carpet": [
           {
            "aaxis": {
             "endlinecolor": "#2a3f5f",
             "gridcolor": "white",
             "linecolor": "white",
             "minorgridcolor": "white",
             "startlinecolor": "#2a3f5f"
            },
            "baxis": {
             "endlinecolor": "#2a3f5f",
             "gridcolor": "white",
             "linecolor": "white",
             "minorgridcolor": "white",
             "startlinecolor": "#2a3f5f"
            },
            "type": "carpet"
           }
          ],
          "choropleth": [
           {
            "colorbar": {
             "outlinewidth": 0,
             "ticks": ""
            },
            "type": "choropleth"
           }
          ],
          "contour": [
           {
            "colorbar": {
             "outlinewidth": 0,
             "ticks": ""
            },
            "colorscale": [
             [
              0,
              "#0d0887"
             ],
             [
              0.1111111111111111,
              "#46039f"
             ],
             [
              0.2222222222222222,
              "#7201a8"
             ],
             [
              0.3333333333333333,
              "#9c179e"
             ],
             [
              0.4444444444444444,
              "#bd3786"
             ],
             [
              0.5555555555555556,
              "#d8576b"
             ],
             [
              0.6666666666666666,
              "#ed7953"
             ],
             [
              0.7777777777777778,
              "#fb9f3a"
             ],
             [
              0.8888888888888888,
              "#fdca26"
             ],
             [
              1,
              "#f0f921"
             ]
            ],
            "type": "contour"
           }
          ],
          "contourcarpet": [
           {
            "colorbar": {
             "outlinewidth": 0,
             "ticks": ""
            },
            "type": "contourcarpet"
           }
          ],
          "heatmap": [
           {
            "colorbar": {
             "outlinewidth": 0,
             "ticks": ""
            },
            "colorscale": [
             [
              0,
              "#0d0887"
             ],
             [
              0.1111111111111111,
              "#46039f"
             ],
             [
              0.2222222222222222,
              "#7201a8"
             ],
             [
              0.3333333333333333,
              "#9c179e"
             ],
             [
              0.4444444444444444,
              "#bd3786"
             ],
             [
              0.5555555555555556,
              "#d8576b"
             ],
             [
              0.6666666666666666,
              "#ed7953"
             ],
             [
              0.7777777777777778,
              "#fb9f3a"
             ],
             [
              0.8888888888888888,
              "#fdca26"
             ],
             [
              1,
              "#f0f921"
             ]
            ],
            "type": "heatmap"
           }
          ],
          "heatmapgl": [
           {
            "colorbar": {
             "outlinewidth": 0,
             "ticks": ""
            },
            "colorscale": [
             [
              0,
              "#0d0887"
             ],
             [
              0.1111111111111111,
              "#46039f"
             ],
             [
              0.2222222222222222,
              "#7201a8"
             ],
             [
              0.3333333333333333,
              "#9c179e"
             ],
             [
              0.4444444444444444,
              "#bd3786"
             ],
             [
              0.5555555555555556,
              "#d8576b"
             ],
             [
              0.6666666666666666,
              "#ed7953"
             ],
             [
              0.7777777777777778,
              "#fb9f3a"
             ],
             [
              0.8888888888888888,
              "#fdca26"
             ],
             [
              1,
              "#f0f921"
             ]
            ],
            "type": "heatmapgl"
           }
          ],
          "histogram": [
           {
            "marker": {
             "pattern": {
              "fillmode": "overlay",
              "size": 10,
              "solidity": 0.2
             }
            },
            "type": "histogram"
           }
          ],
          "histogram2d": [
           {
            "colorbar": {
             "outlinewidth": 0,
             "ticks": ""
            },
            "colorscale": [
             [
              0,
              "#0d0887"
             ],
             [
              0.1111111111111111,
              "#46039f"
             ],
             [
              0.2222222222222222,
              "#7201a8"
             ],
             [
              0.3333333333333333,
              "#9c179e"
             ],
             [
              0.4444444444444444,
              "#bd3786"
             ],
             [
              0.5555555555555556,
              "#d8576b"
             ],
             [
              0.6666666666666666,
              "#ed7953"
             ],
             [
              0.7777777777777778,
              "#fb9f3a"
             ],
             [
              0.8888888888888888,
              "#fdca26"
             ],
             [
              1,
              "#f0f921"
             ]
            ],
            "type": "histogram2d"
           }
          ],
          "histogram2dcontour": [
           {
            "colorbar": {
             "outlinewidth": 0,
             "ticks": ""
            },
            "colorscale": [
             [
              0,
              "#0d0887"
             ],
             [
              0.1111111111111111,
              "#46039f"
             ],
             [
              0.2222222222222222,
              "#7201a8"
             ],
             [
              0.3333333333333333,
              "#9c179e"
             ],
             [
              0.4444444444444444,
              "#bd3786"
             ],
             [
              0.5555555555555556,
              "#d8576b"
             ],
             [
              0.6666666666666666,
              "#ed7953"
             ],
             [
              0.7777777777777778,
              "#fb9f3a"
             ],
             [
              0.8888888888888888,
              "#fdca26"
             ],
             [
              1,
              "#f0f921"
             ]
            ],
            "type": "histogram2dcontour"
           }
          ],
          "mesh3d": [
           {
            "colorbar": {
             "outlinewidth": 0,
             "ticks": ""
            },
            "type": "mesh3d"
           }
          ],
          "parcoords": [
           {
            "line": {
             "colorbar": {
              "outlinewidth": 0,
              "ticks": ""
             }
            },
            "type": "parcoords"
           }
          ],
          "pie": [
           {
            "automargin": true,
            "type": "pie"
           }
          ],
          "scatter": [
           {
            "fillpattern": {
             "fillmode": "overlay",
             "size": 10,
             "solidity": 0.2
            },
            "type": "scatter"
           }
          ],
          "scatter3d": [
           {
            "line": {
             "colorbar": {
              "outlinewidth": 0,
              "ticks": ""
             }
            },
            "marker": {
             "colorbar": {
              "outlinewidth": 0,
              "ticks": ""
             }
            },
            "type": "scatter3d"
           }
          ],
          "scattercarpet": [
           {
            "marker": {
             "colorbar": {
              "outlinewidth": 0,
              "ticks": ""
             }
            },
            "type": "scattercarpet"
           }
          ],
          "scattergeo": [
           {
            "marker": {
             "colorbar": {
              "outlinewidth": 0,
              "ticks": ""
             }
            },
            "type": "scattergeo"
           }
          ],
          "scattergl": [
           {
            "marker": {
             "colorbar": {
              "outlinewidth": 0,
              "ticks": ""
             }
            },
            "type": "scattergl"
           }
          ],
          "scattermapbox": [
           {
            "marker": {
             "colorbar": {
              "outlinewidth": 0,
              "ticks": ""
             }
            },
            "type": "scattermapbox"
           }
          ],
          "scatterpolar": [
           {
            "marker": {
             "colorbar": {
              "outlinewidth": 0,
              "ticks": ""
             }
            },
            "type": "scatterpolar"
           }
          ],
          "scatterpolargl": [
           {
            "marker": {
             "colorbar": {
              "outlinewidth": 0,
              "ticks": ""
             }
            },
            "type": "scatterpolargl"
           }
          ],
          "scatterternary": [
           {
            "marker": {
             "colorbar": {
              "outlinewidth": 0,
              "ticks": ""
             }
            },
            "type": "scatterternary"
           }
          ],
          "surface": [
           {
            "colorbar": {
             "outlinewidth": 0,
             "ticks": ""
            },
            "colorscale": [
             [
              0,
              "#0d0887"
             ],
             [
              0.1111111111111111,
              "#46039f"
             ],
             [
              0.2222222222222222,
              "#7201a8"
             ],
             [
              0.3333333333333333,
              "#9c179e"
             ],
             [
              0.4444444444444444,
              "#bd3786"
             ],
             [
              0.5555555555555556,
              "#d8576b"
             ],
             [
              0.6666666666666666,
              "#ed7953"
             ],
             [
              0.7777777777777778,
              "#fb9f3a"
             ],
             [
              0.8888888888888888,
              "#fdca26"
             ],
             [
              1,
              "#f0f921"
             ]
            ],
            "type": "surface"
           }
          ],
          "table": [
           {
            "cells": {
             "fill": {
              "color": "#EBF0F8"
             },
             "line": {
              "color": "white"
             }
            },
            "header": {
             "fill": {
              "color": "#C8D4E3"
             },
             "line": {
              "color": "white"
             }
            },
            "type": "table"
           }
          ]
         },
         "layout": {
          "annotationdefaults": {
           "arrowcolor": "#2a3f5f",
           "arrowhead": 0,
           "arrowwidth": 1
          },
          "autotypenumbers": "strict",
          "coloraxis": {
           "colorbar": {
            "outlinewidth": 0,
            "ticks": ""
           }
          },
          "colorscale": {
           "diverging": [
            [
             0,
             "#8e0152"
            ],
            [
             0.1,
             "#c51b7d"
            ],
            [
             0.2,
             "#de77ae"
            ],
            [
             0.3,
             "#f1b6da"
            ],
            [
             0.4,
             "#fde0ef"
            ],
            [
             0.5,
             "#f7f7f7"
            ],
            [
             0.6,
             "#e6f5d0"
            ],
            [
             0.7,
             "#b8e186"
            ],
            [
             0.8,
             "#7fbc41"
            ],
            [
             0.9,
             "#4d9221"
            ],
            [
             1,
             "#276419"
            ]
           ],
           "sequential": [
            [
             0,
             "#0d0887"
            ],
            [
             0.1111111111111111,
             "#46039f"
            ],
            [
             0.2222222222222222,
             "#7201a8"
            ],
            [
             0.3333333333333333,
             "#9c179e"
            ],
            [
             0.4444444444444444,
             "#bd3786"
            ],
            [
             0.5555555555555556,
             "#d8576b"
            ],
            [
             0.6666666666666666,
             "#ed7953"
            ],
            [
             0.7777777777777778,
             "#fb9f3a"
            ],
            [
             0.8888888888888888,
             "#fdca26"
            ],
            [
             1,
             "#f0f921"
            ]
           ],
           "sequentialminus": [
            [
             0,
             "#0d0887"
            ],
            [
             0.1111111111111111,
             "#46039f"
            ],
            [
             0.2222222222222222,
             "#7201a8"
            ],
            [
             0.3333333333333333,
             "#9c179e"
            ],
            [
             0.4444444444444444,
             "#bd3786"
            ],
            [
             0.5555555555555556,
             "#d8576b"
            ],
            [
             0.6666666666666666,
             "#ed7953"
            ],
            [
             0.7777777777777778,
             "#fb9f3a"
            ],
            [
             0.8888888888888888,
             "#fdca26"
            ],
            [
             1,
             "#f0f921"
            ]
           ]
          },
          "colorway": [
           "#636efa",
           "#EF553B",
           "#00cc96",
           "#ab63fa",
           "#FFA15A",
           "#19d3f3",
           "#FF6692",
           "#B6E880",
           "#FF97FF",
           "#FECB52"
          ],
          "font": {
           "color": "#2a3f5f"
          },
          "geo": {
           "bgcolor": "white",
           "lakecolor": "white",
           "landcolor": "#E5ECF6",
           "showlakes": true,
           "showland": true,
           "subunitcolor": "white"
          },
          "hoverlabel": {
           "align": "left"
          },
          "hovermode": "closest",
          "mapbox": {
           "style": "light"
          },
          "paper_bgcolor": "white",
          "plot_bgcolor": "#E5ECF6",
          "polar": {
           "angularaxis": {
            "gridcolor": "white",
            "linecolor": "white",
            "ticks": ""
           },
           "bgcolor": "#E5ECF6",
           "radialaxis": {
            "gridcolor": "white",
            "linecolor": "white",
            "ticks": ""
           }
          },
          "scene": {
           "xaxis": {
            "backgroundcolor": "#E5ECF6",
            "gridcolor": "white",
            "gridwidth": 2,
            "linecolor": "white",
            "showbackground": true,
            "ticks": "",
            "zerolinecolor": "white"
           },
           "yaxis": {
            "backgroundcolor": "#E5ECF6",
            "gridcolor": "white",
            "gridwidth": 2,
            "linecolor": "white",
            "showbackground": true,
            "ticks": "",
            "zerolinecolor": "white"
           },
           "zaxis": {
            "backgroundcolor": "#E5ECF6",
            "gridcolor": "white",
            "gridwidth": 2,
            "linecolor": "white",
            "showbackground": true,
            "ticks": "",
            "zerolinecolor": "white"
           }
          },
          "shapedefaults": {
           "line": {
            "color": "#2a3f5f"
           }
          },
          "ternary": {
           "aaxis": {
            "gridcolor": "white",
            "linecolor": "white",
            "ticks": ""
           },
           "baxis": {
            "gridcolor": "white",
            "linecolor": "white",
            "ticks": ""
           },
           "bgcolor": "#E5ECF6",
           "caxis": {
            "gridcolor": "white",
            "linecolor": "white",
            "ticks": ""
           }
          },
          "title": {
           "x": 0.05
          },
          "xaxis": {
           "automargin": true,
           "gridcolor": "white",
           "linecolor": "white",
           "ticks": "",
           "title": {
            "standoff": 15
           },
           "zerolinecolor": "white",
           "zerolinewidth": 2
          },
          "yaxis": {
           "automargin": true,
           "gridcolor": "white",
           "linecolor": "white",
           "ticks": "",
           "title": {
            "standoff": 15
           },
           "zerolinecolor": "white",
           "zerolinewidth": 2
          }
         }
        },
        "xaxis": {
         "anchor": "y",
         "domain": [
          0,
          1
         ],
         "title": {
          "text": "Количество фильмов или тв-шоу на сайте"
         }
        },
        "yaxis": {
         "anchor": "x",
         "domain": [
          0,
          1
         ],
         "title": {
          "text": "Режиссеры"
         }
        }
       }
      },
      "text/html": [
       "<div>                            <div id=\"211b098d-acba-4f27-b844-79a21718612d\" class=\"plotly-graph-div\" style=\"height:525px; width:100%;\"></div>            <script type=\"text/javascript\">                require([\"plotly\"], function(Plotly) {                    window.PLOTLYENV=window.PLOTLYENV || {};                                    if (document.getElementById(\"211b098d-acba-4f27-b844-79a21718612d\")) {                    Plotly.newPlot(                        \"211b098d-acba-4f27-b844-79a21718612d\",                        [{\"alignmentgroup\":\"True\",\"hovertemplate\":\"\\u0420\\u0435\\u0436\\u0438\\u0441\\u0441\\u0435\\u0440\\u044b=%{y}<br>\\u041a\\u043e\\u043b\\u0438\\u0447\\u0435\\u0441\\u0442\\u0432\\u043e \\u0444\\u0438\\u043b\\u044c\\u043c\\u043e\\u0432 \\u0438\\u043b\\u0438 \\u0442\\u0432-\\u0448\\u043e\\u0443 \\u043d\\u0430 \\u0441\\u0430\\u0439\\u0442\\u0435=%{x}<extra></extra>\",\"legendgroup\":\"Rajiv Chilaka\",\"marker\":{\"color\":\"#440154\",\"pattern\":{\"shape\":\"\"}},\"name\":\"Rajiv Chilaka\",\"offsetgroup\":\"Rajiv Chilaka\",\"orientation\":\"h\",\"showlegend\":true,\"textposition\":\"auto\",\"texttemplate\":\"%{x}\",\"x\":[20],\"xaxis\":\"x\",\"y\":[\"Rajiv Chilaka\"],\"yaxis\":\"y\",\"type\":\"bar\"},{\"alignmentgroup\":\"True\",\"hovertemplate\":\"\\u0420\\u0435\\u0436\\u0438\\u0441\\u0441\\u0435\\u0440\\u044b=%{y}<br>\\u041a\\u043e\\u043b\\u0438\\u0447\\u0435\\u0441\\u0442\\u0432\\u043e \\u0444\\u0438\\u043b\\u044c\\u043c\\u043e\\u0432 \\u0438\\u043b\\u0438 \\u0442\\u0432-\\u0448\\u043e\\u0443 \\u043d\\u0430 \\u0441\\u0430\\u0439\\u0442\\u0435=%{x}<extra></extra>\",\"legendgroup\":\"Alastair Fothergill\",\"marker\":{\"color\":\"#482878\",\"pattern\":{\"shape\":\"\"}},\"name\":\"Alastair Fothergill\",\"offsetgroup\":\"Alastair Fothergill\",\"orientation\":\"h\",\"showlegend\":true,\"textposition\":\"auto\",\"texttemplate\":\"%{x}\",\"x\":[18],\"xaxis\":\"x\",\"y\":[\"Alastair Fothergill\"],\"yaxis\":\"y\",\"type\":\"bar\"},{\"alignmentgroup\":\"True\",\"hovertemplate\":\"\\u0420\\u0435\\u0436\\u0438\\u0441\\u0441\\u0435\\u0440\\u044b=%{y}<br>\\u041a\\u043e\\u043b\\u0438\\u0447\\u0435\\u0441\\u0442\\u0432\\u043e \\u0444\\u0438\\u043b\\u044c\\u043c\\u043e\\u0432 \\u0438\\u043b\\u0438 \\u0442\\u0432-\\u0448\\u043e\\u0443 \\u043d\\u0430 \\u0441\\u0430\\u0439\\u0442\\u0435=%{x}<extra></extra>\",\"legendgroup\":\"Ra\\u00fal Campos, Jan Suter\",\"marker\":{\"color\":\"#3e4989\",\"pattern\":{\"shape\":\"\"}},\"name\":\"Ra\\u00fal Campos, Jan Suter\",\"offsetgroup\":\"Ra\\u00fal Campos, Jan Suter\",\"orientation\":\"h\",\"showlegend\":true,\"textposition\":\"auto\",\"texttemplate\":\"%{x}\",\"x\":[18],\"xaxis\":\"x\",\"y\":[\"Ra\\u00fal Campos, Jan Suter\"],\"yaxis\":\"y\",\"type\":\"bar\"},{\"alignmentgroup\":\"True\",\"hovertemplate\":\"\\u0420\\u0435\\u0436\\u0438\\u0441\\u0441\\u0435\\u0440\\u044b=%{y}<br>\\u041a\\u043e\\u043b\\u0438\\u0447\\u0435\\u0441\\u0442\\u0432\\u043e \\u0444\\u0438\\u043b\\u044c\\u043c\\u043e\\u0432 \\u0438\\u043b\\u0438 \\u0442\\u0432-\\u0448\\u043e\\u0443 \\u043d\\u0430 \\u0441\\u0430\\u0439\\u0442\\u0435=%{x}<extra></extra>\",\"legendgroup\":\"Suhas Kadav\",\"marker\":{\"color\":\"#31688e\",\"pattern\":{\"shape\":\"\"}},\"name\":\"Suhas Kadav\",\"offsetgroup\":\"Suhas Kadav\",\"orientation\":\"h\",\"showlegend\":true,\"textposition\":\"auto\",\"texttemplate\":\"%{x}\",\"x\":[16],\"xaxis\":\"x\",\"y\":[\"Suhas Kadav\"],\"yaxis\":\"y\",\"type\":\"bar\"},{\"alignmentgroup\":\"True\",\"hovertemplate\":\"\\u0420\\u0435\\u0436\\u0438\\u0441\\u0441\\u0435\\u0440\\u044b=%{y}<br>\\u041a\\u043e\\u043b\\u0438\\u0447\\u0435\\u0441\\u0442\\u0432\\u043e \\u0444\\u0438\\u043b\\u044c\\u043c\\u043e\\u0432 \\u0438\\u043b\\u0438 \\u0442\\u0432-\\u0448\\u043e\\u0443 \\u043d\\u0430 \\u0441\\u0430\\u0439\\u0442\\u0435=%{x}<extra></extra>\",\"legendgroup\":\"Marcus Raboy\",\"marker\":{\"color\":\"#26828e\",\"pattern\":{\"shape\":\"\"}},\"name\":\"Marcus Raboy\",\"offsetgroup\":\"Marcus Raboy\",\"orientation\":\"h\",\"showlegend\":true,\"textposition\":\"auto\",\"texttemplate\":\"%{x}\",\"x\":[16],\"xaxis\":\"x\",\"y\":[\"Marcus Raboy\"],\"yaxis\":\"y\",\"type\":\"bar\"},{\"alignmentgroup\":\"True\",\"hovertemplate\":\"\\u0420\\u0435\\u0436\\u0438\\u0441\\u0441\\u0435\\u0440\\u044b=%{y}<br>\\u041a\\u043e\\u043b\\u0438\\u0447\\u0435\\u0441\\u0442\\u0432\\u043e \\u0444\\u0438\\u043b\\u044c\\u043c\\u043e\\u0432 \\u0438\\u043b\\u0438 \\u0442\\u0432-\\u0448\\u043e\\u0443 \\u043d\\u0430 \\u0441\\u0430\\u0439\\u0442\\u0435=%{x}<extra></extra>\",\"legendgroup\":\"Jay Karas\",\"marker\":{\"color\":\"#1f9e89\",\"pattern\":{\"shape\":\"\"}},\"name\":\"Jay Karas\",\"offsetgroup\":\"Jay Karas\",\"orientation\":\"h\",\"showlegend\":true,\"textposition\":\"auto\",\"texttemplate\":\"%{x}\",\"x\":[14],\"xaxis\":\"x\",\"y\":[\"Jay Karas\"],\"yaxis\":\"y\",\"type\":\"bar\"},{\"alignmentgroup\":\"True\",\"hovertemplate\":\"\\u0420\\u0435\\u0436\\u0438\\u0441\\u0441\\u0435\\u0440\\u044b=%{y}<br>\\u041a\\u043e\\u043b\\u0438\\u0447\\u0435\\u0441\\u0442\\u0432\\u043e \\u0444\\u0438\\u043b\\u044c\\u043c\\u043e\\u0432 \\u0438\\u043b\\u0438 \\u0442\\u0432-\\u0448\\u043e\\u0443 \\u043d\\u0430 \\u0441\\u0430\\u0439\\u0442\\u0435=%{x}<extra></extra>\",\"legendgroup\":\"Cathy Garcia-Molina\",\"marker\":{\"color\":\"#35b779\",\"pattern\":{\"shape\":\"\"}},\"name\":\"Cathy Garcia-Molina\",\"offsetgroup\":\"Cathy Garcia-Molina\",\"orientation\":\"h\",\"showlegend\":true,\"textposition\":\"auto\",\"texttemplate\":\"%{x}\",\"x\":[13],\"xaxis\":\"x\",\"y\":[\"Cathy Garcia-Molina\"],\"yaxis\":\"y\",\"type\":\"bar\"},{\"alignmentgroup\":\"True\",\"hovertemplate\":\"\\u0420\\u0435\\u0436\\u0438\\u0441\\u0441\\u0435\\u0440\\u044b=%{y}<br>\\u041a\\u043e\\u043b\\u0438\\u0447\\u0435\\u0441\\u0442\\u0432\\u043e \\u0444\\u0438\\u043b\\u044c\\u043c\\u043e\\u0432 \\u0438\\u043b\\u0438 \\u0442\\u0432-\\u0448\\u043e\\u0443 \\u043d\\u0430 \\u0441\\u0430\\u0439\\u0442\\u0435=%{x}<extra></extra>\",\"legendgroup\":\"Martin Scorsese\",\"marker\":{\"color\":\"#6ece58\",\"pattern\":{\"shape\":\"\"}},\"name\":\"Martin Scorsese\",\"offsetgroup\":\"Martin Scorsese\",\"orientation\":\"h\",\"showlegend\":true,\"textposition\":\"auto\",\"texttemplate\":\"%{x}\",\"x\":[12],\"xaxis\":\"x\",\"y\":[\"Martin Scorsese\"],\"yaxis\":\"y\",\"type\":\"bar\"},{\"alignmentgroup\":\"True\",\"hovertemplate\":\"\\u0420\\u0435\\u0436\\u0438\\u0441\\u0441\\u0435\\u0440\\u044b=%{y}<br>\\u041a\\u043e\\u043b\\u0438\\u0447\\u0435\\u0441\\u0442\\u0432\\u043e \\u0444\\u0438\\u043b\\u044c\\u043c\\u043e\\u0432 \\u0438\\u043b\\u0438 \\u0442\\u0432-\\u0448\\u043e\\u0443 \\u043d\\u0430 \\u0441\\u0430\\u0439\\u0442\\u0435=%{x}<extra></extra>\",\"legendgroup\":\"Youssef Chahine\",\"marker\":{\"color\":\"#b5de2b\",\"pattern\":{\"shape\":\"\"}},\"name\":\"Youssef Chahine\",\"offsetgroup\":\"Youssef Chahine\",\"orientation\":\"h\",\"showlegend\":true,\"textposition\":\"auto\",\"texttemplate\":\"%{x}\",\"x\":[12],\"xaxis\":\"x\",\"y\":[\"Youssef Chahine\"],\"yaxis\":\"y\",\"type\":\"bar\"},{\"alignmentgroup\":\"True\",\"hovertemplate\":\"\\u0420\\u0435\\u0436\\u0438\\u0441\\u0441\\u0435\\u0440\\u044b=%{y}<br>\\u041a\\u043e\\u043b\\u0438\\u0447\\u0435\\u0441\\u0442\\u0432\\u043e \\u0444\\u0438\\u043b\\u044c\\u043c\\u043e\\u0432 \\u0438\\u043b\\u0438 \\u0442\\u0432-\\u0448\\u043e\\u0443 \\u043d\\u0430 \\u0441\\u0430\\u0439\\u0442\\u0435=%{x}<extra></extra>\",\"legendgroup\":\"Jay Chapman\",\"marker\":{\"color\":\"#fde725\",\"pattern\":{\"shape\":\"\"}},\"name\":\"Jay Chapman\",\"offsetgroup\":\"Jay Chapman\",\"orientation\":\"h\",\"showlegend\":true,\"textposition\":\"auto\",\"texttemplate\":\"%{x}\",\"x\":[12],\"xaxis\":\"x\",\"y\":[\"Jay Chapman\"],\"yaxis\":\"y\",\"type\":\"bar\"}],                        {\"template\":{\"data\":{\"histogram2dcontour\":[{\"type\":\"histogram2dcontour\",\"colorbar\":{\"outlinewidth\":0,\"ticks\":\"\"},\"colorscale\":[[0.0,\"#0d0887\"],[0.1111111111111111,\"#46039f\"],[0.2222222222222222,\"#7201a8\"],[0.3333333333333333,\"#9c179e\"],[0.4444444444444444,\"#bd3786\"],[0.5555555555555556,\"#d8576b\"],[0.6666666666666666,\"#ed7953\"],[0.7777777777777778,\"#fb9f3a\"],[0.8888888888888888,\"#fdca26\"],[1.0,\"#f0f921\"]]}],\"choropleth\":[{\"type\":\"choropleth\",\"colorbar\":{\"outlinewidth\":0,\"ticks\":\"\"}}],\"histogram2d\":[{\"type\":\"histogram2d\",\"colorbar\":{\"outlinewidth\":0,\"ticks\":\"\"},\"colorscale\":[[0.0,\"#0d0887\"],[0.1111111111111111,\"#46039f\"],[0.2222222222222222,\"#7201a8\"],[0.3333333333333333,\"#9c179e\"],[0.4444444444444444,\"#bd3786\"],[0.5555555555555556,\"#d8576b\"],[0.6666666666666666,\"#ed7953\"],[0.7777777777777778,\"#fb9f3a\"],[0.8888888888888888,\"#fdca26\"],[1.0,\"#f0f921\"]]}],\"heatmap\":[{\"type\":\"heatmap\",\"colorbar\":{\"outlinewidth\":0,\"ticks\":\"\"},\"colorscale\":[[0.0,\"#0d0887\"],[0.1111111111111111,\"#46039f\"],[0.2222222222222222,\"#7201a8\"],[0.3333333333333333,\"#9c179e\"],[0.4444444444444444,\"#bd3786\"],[0.5555555555555556,\"#d8576b\"],[0.6666666666666666,\"#ed7953\"],[0.7777777777777778,\"#fb9f3a\"],[0.8888888888888888,\"#fdca26\"],[1.0,\"#f0f921\"]]}],\"heatmapgl\":[{\"type\":\"heatmapgl\",\"colorbar\":{\"outlinewidth\":0,\"ticks\":\"\"},\"colorscale\":[[0.0,\"#0d0887\"],[0.1111111111111111,\"#46039f\"],[0.2222222222222222,\"#7201a8\"],[0.3333333333333333,\"#9c179e\"],[0.4444444444444444,\"#bd3786\"],[0.5555555555555556,\"#d8576b\"],[0.6666666666666666,\"#ed7953\"],[0.7777777777777778,\"#fb9f3a\"],[0.8888888888888888,\"#fdca26\"],[1.0,\"#f0f921\"]]}],\"contourcarpet\":[{\"type\":\"contourcarpet\",\"colorbar\":{\"outlinewidth\":0,\"ticks\":\"\"}}],\"contour\":[{\"type\":\"contour\",\"colorbar\":{\"outlinewidth\":0,\"ticks\":\"\"},\"colorscale\":[[0.0,\"#0d0887\"],[0.1111111111111111,\"#46039f\"],[0.2222222222222222,\"#7201a8\"],[0.3333333333333333,\"#9c179e\"],[0.4444444444444444,\"#bd3786\"],[0.5555555555555556,\"#d8576b\"],[0.6666666666666666,\"#ed7953\"],[0.7777777777777778,\"#fb9f3a\"],[0.8888888888888888,\"#fdca26\"],[1.0,\"#f0f921\"]]}],\"surface\":[{\"type\":\"surface\",\"colorbar\":{\"outlinewidth\":0,\"ticks\":\"\"},\"colorscale\":[[0.0,\"#0d0887\"],[0.1111111111111111,\"#46039f\"],[0.2222222222222222,\"#7201a8\"],[0.3333333333333333,\"#9c179e\"],[0.4444444444444444,\"#bd3786\"],[0.5555555555555556,\"#d8576b\"],[0.6666666666666666,\"#ed7953\"],[0.7777777777777778,\"#fb9f3a\"],[0.8888888888888888,\"#fdca26\"],[1.0,\"#f0f921\"]]}],\"mesh3d\":[{\"type\":\"mesh3d\",\"colorbar\":{\"outlinewidth\":0,\"ticks\":\"\"}}],\"scatter\":[{\"fillpattern\":{\"fillmode\":\"overlay\",\"size\":10,\"solidity\":0.2},\"type\":\"scatter\"}],\"parcoords\":[{\"type\":\"parcoords\",\"line\":{\"colorbar\":{\"outlinewidth\":0,\"ticks\":\"\"}}}],\"scatterpolargl\":[{\"type\":\"scatterpolargl\",\"marker\":{\"colorbar\":{\"outlinewidth\":0,\"ticks\":\"\"}}}],\"bar\":[{\"error_x\":{\"color\":\"#2a3f5f\"},\"error_y\":{\"color\":\"#2a3f5f\"},\"marker\":{\"line\":{\"color\":\"#E5ECF6\",\"width\":0.5},\"pattern\":{\"fillmode\":\"overlay\",\"size\":10,\"solidity\":0.2}},\"type\":\"bar\"}],\"scattergeo\":[{\"type\":\"scattergeo\",\"marker\":{\"colorbar\":{\"outlinewidth\":0,\"ticks\":\"\"}}}],\"scatterpolar\":[{\"type\":\"scatterpolar\",\"marker\":{\"colorbar\":{\"outlinewidth\":0,\"ticks\":\"\"}}}],\"histogram\":[{\"marker\":{\"pattern\":{\"fillmode\":\"overlay\",\"size\":10,\"solidity\":0.2}},\"type\":\"histogram\"}],\"scattergl\":[{\"type\":\"scattergl\",\"marker\":{\"colorbar\":{\"outlinewidth\":0,\"ticks\":\"\"}}}],\"scatter3d\":[{\"type\":\"scatter3d\",\"line\":{\"colorbar\":{\"outlinewidth\":0,\"ticks\":\"\"}},\"marker\":{\"colorbar\":{\"outlinewidth\":0,\"ticks\":\"\"}}}],\"scattermapbox\":[{\"type\":\"scattermapbox\",\"marker\":{\"colorbar\":{\"outlinewidth\":0,\"ticks\":\"\"}}}],\"scatterternary\":[{\"type\":\"scatterternary\",\"marker\":{\"colorbar\":{\"outlinewidth\":0,\"ticks\":\"\"}}}],\"scattercarpet\":[{\"type\":\"scattercarpet\",\"marker\":{\"colorbar\":{\"outlinewidth\":0,\"ticks\":\"\"}}}],\"carpet\":[{\"aaxis\":{\"endlinecolor\":\"#2a3f5f\",\"gridcolor\":\"white\",\"linecolor\":\"white\",\"minorgridcolor\":\"white\",\"startlinecolor\":\"#2a3f5f\"},\"baxis\":{\"endlinecolor\":\"#2a3f5f\",\"gridcolor\":\"white\",\"linecolor\":\"white\",\"minorgridcolor\":\"white\",\"startlinecolor\":\"#2a3f5f\"},\"type\":\"carpet\"}],\"table\":[{\"cells\":{\"fill\":{\"color\":\"#EBF0F8\"},\"line\":{\"color\":\"white\"}},\"header\":{\"fill\":{\"color\":\"#C8D4E3\"},\"line\":{\"color\":\"white\"}},\"type\":\"table\"}],\"barpolar\":[{\"marker\":{\"line\":{\"color\":\"#E5ECF6\",\"width\":0.5},\"pattern\":{\"fillmode\":\"overlay\",\"size\":10,\"solidity\":0.2}},\"type\":\"barpolar\"}],\"pie\":[{\"automargin\":true,\"type\":\"pie\"}]},\"layout\":{\"autotypenumbers\":\"strict\",\"colorway\":[\"#636efa\",\"#EF553B\",\"#00cc96\",\"#ab63fa\",\"#FFA15A\",\"#19d3f3\",\"#FF6692\",\"#B6E880\",\"#FF97FF\",\"#FECB52\"],\"font\":{\"color\":\"#2a3f5f\"},\"hovermode\":\"closest\",\"hoverlabel\":{\"align\":\"left\"},\"paper_bgcolor\":\"white\",\"plot_bgcolor\":\"#E5ECF6\",\"polar\":{\"bgcolor\":\"#E5ECF6\",\"angularaxis\":{\"gridcolor\":\"white\",\"linecolor\":\"white\",\"ticks\":\"\"},\"radialaxis\":{\"gridcolor\":\"white\",\"linecolor\":\"white\",\"ticks\":\"\"}},\"ternary\":{\"bgcolor\":\"#E5ECF6\",\"aaxis\":{\"gridcolor\":\"white\",\"linecolor\":\"white\",\"ticks\":\"\"},\"baxis\":{\"gridcolor\":\"white\",\"linecolor\":\"white\",\"ticks\":\"\"},\"caxis\":{\"gridcolor\":\"white\",\"linecolor\":\"white\",\"ticks\":\"\"}},\"coloraxis\":{\"colorbar\":{\"outlinewidth\":0,\"ticks\":\"\"}},\"colorscale\":{\"sequential\":[[0.0,\"#0d0887\"],[0.1111111111111111,\"#46039f\"],[0.2222222222222222,\"#7201a8\"],[0.3333333333333333,\"#9c179e\"],[0.4444444444444444,\"#bd3786\"],[0.5555555555555556,\"#d8576b\"],[0.6666666666666666,\"#ed7953\"],[0.7777777777777778,\"#fb9f3a\"],[0.8888888888888888,\"#fdca26\"],[1.0,\"#f0f921\"]],\"sequentialminus\":[[0.0,\"#0d0887\"],[0.1111111111111111,\"#46039f\"],[0.2222222222222222,\"#7201a8\"],[0.3333333333333333,\"#9c179e\"],[0.4444444444444444,\"#bd3786\"],[0.5555555555555556,\"#d8576b\"],[0.6666666666666666,\"#ed7953\"],[0.7777777777777778,\"#fb9f3a\"],[0.8888888888888888,\"#fdca26\"],[1.0,\"#f0f921\"]],\"diverging\":[[0,\"#8e0152\"],[0.1,\"#c51b7d\"],[0.2,\"#de77ae\"],[0.3,\"#f1b6da\"],[0.4,\"#fde0ef\"],[0.5,\"#f7f7f7\"],[0.6,\"#e6f5d0\"],[0.7,\"#b8e186\"],[0.8,\"#7fbc41\"],[0.9,\"#4d9221\"],[1,\"#276419\"]]},\"xaxis\":{\"gridcolor\":\"white\",\"linecolor\":\"white\",\"ticks\":\"\",\"title\":{\"standoff\":15},\"zerolinecolor\":\"white\",\"automargin\":true,\"zerolinewidth\":2},\"yaxis\":{\"gridcolor\":\"white\",\"linecolor\":\"white\",\"ticks\":\"\",\"title\":{\"standoff\":15},\"zerolinecolor\":\"white\",\"automargin\":true,\"zerolinewidth\":2},\"scene\":{\"xaxis\":{\"backgroundcolor\":\"#E5ECF6\",\"gridcolor\":\"white\",\"linecolor\":\"white\",\"showbackground\":true,\"ticks\":\"\",\"zerolinecolor\":\"white\",\"gridwidth\":2},\"yaxis\":{\"backgroundcolor\":\"#E5ECF6\",\"gridcolor\":\"white\",\"linecolor\":\"white\",\"showbackground\":true,\"ticks\":\"\",\"zerolinecolor\":\"white\",\"gridwidth\":2},\"zaxis\":{\"backgroundcolor\":\"#E5ECF6\",\"gridcolor\":\"white\",\"linecolor\":\"white\",\"showbackground\":true,\"ticks\":\"\",\"zerolinecolor\":\"white\",\"gridwidth\":2}},\"shapedefaults\":{\"line\":{\"color\":\"#2a3f5f\"}},\"annotationdefaults\":{\"arrowcolor\":\"#2a3f5f\",\"arrowhead\":0,\"arrowwidth\":1},\"geo\":{\"bgcolor\":\"white\",\"landcolor\":\"#E5ECF6\",\"subunitcolor\":\"white\",\"showland\":true,\"showlakes\":true,\"lakecolor\":\"white\"},\"title\":{\"x\":0.05},\"mapbox\":{\"style\":\"light\"}}},\"xaxis\":{\"anchor\":\"y\",\"domain\":[0.0,1.0],\"title\":{\"text\":\"\\u041a\\u043e\\u043b\\u0438\\u0447\\u0435\\u0441\\u0442\\u0432\\u043e \\u0444\\u0438\\u043b\\u044c\\u043c\\u043e\\u0432 \\u0438\\u043b\\u0438 \\u0442\\u0432-\\u0448\\u043e\\u0443 \\u043d\\u0430 \\u0441\\u0430\\u0439\\u0442\\u0435\"}},\"yaxis\":{\"anchor\":\"x\",\"domain\":[0.0,1.0],\"title\":{\"text\":\"\\u0420\\u0435\\u0436\\u0438\\u0441\\u0441\\u0435\\u0440\\u044b\"}},\"legend\":{\"title\":{\"text\":\"\\u0420\\u0435\\u0436\\u0438\\u0441\\u0441\\u0435\\u0440\\u044b\"},\"tracegroupgap\":0},\"margin\":{\"t\":60},\"barmode\":\"relative\"},                        {\"responsive\": true}                    ).then(function(){\n",
       "                            \n",
       "var gd = document.getElementById('211b098d-acba-4f27-b844-79a21718612d');\n",
       "var x = new MutationObserver(function (mutations, observer) {{\n",
       "        var display = window.getComputedStyle(gd).display;\n",
       "        if (!display || display === 'none') {{\n",
       "            console.log([gd, 'removed!']);\n",
       "            Plotly.purge(gd);\n",
       "            observer.disconnect();\n",
       "        }}\n",
       "}});\n",
       "\n",
       "// Listen for the removal of the full notebook cells\n",
       "var notebookContainer = gd.closest('#notebook-container');\n",
       "if (notebookContainer) {{\n",
       "    x.observe(notebookContainer, {childList: true});\n",
       "}}\n",
       "\n",
       "// Listen for the clearing of the current output cell\n",
       "var outputEl = gd.closest('.output');\n",
       "if (outputEl) {{\n",
       "    x.observe(outputEl, {childList: true});\n",
       "}}\n",
       "\n",
       "                        })                };                });            </script>        </div>"
      ]
     },
     "metadata": {},
     "output_type": "display_data"
    }
   ],
   "source": [
    "colors = px.colors.sequential.Viridis\n",
    "\n",
    "fig = px.bar(directors[1:11], \n",
    "       y=directors[1:11].index,\n",
    "       x=directors[1:11],\n",
    "       color=directors[1:11].index,\n",
    "       color_discrete_sequence=colors,\n",
    "       text_auto=True,\n",
    "       labels=dict(y='Режиссеры', x='Количество фильмов или тв-шоу на сайте', color='Режиссеры'),  # Добавляем название для легенды \n",
    "       orientation=\"h\")\n",
    "\n",
    "fig.show()"
   ]
  },
  {
   "cell_type": "code",
   "execution_count": 159,
   "id": "df414069",
   "metadata": {},
   "outputs": [
    {
     "data": {
      "text/plain": [
       "United States     3240\n",
       "India             1057\n",
       "United Kingdom     638\n",
       "Pakistan           421\n",
       "Not Given          287\n",
       "                  ... \n",
       "Iran                 1\n",
       "West Germany         1\n",
       "Greece               1\n",
       "Zimbabwe             1\n",
       "Soviet Union         1\n",
       "Name: country, Length: 86, dtype: int64"
      ]
     },
     "execution_count": 159,
     "metadata": {},
     "output_type": "execute_result"
    }
   ],
   "source": [
    "df['country'].value_counts()"
   ]
  },
  {
   "cell_type": "code",
   "execution_count": 160,
   "id": "52d2be39",
   "metadata": {},
   "outputs": [
    {
     "name": "stdout",
     "output_type": "stream",
     "text": [
      "Все российские фильмы/тв-шоу на сервисе Нетфликс:\n",
      "['Secret Magic Control Agency' 'To the Lake' 'Dovlatov'\n",
      " 'Gagarin: First in Space' 'Hardcore Henry' 'Kid-E-Cats' 'Larva'\n",
      " 'Masha and the Bear' 'Better Than Us' 'Sparta' 'The Method' 'Fartsa'\n",
      " 'Locust' 'Be-Be-Bears' 'JingleKids' 'Silver Spoon' 'The Road to Calvary'\n",
      " 'Trotsky' 'Yoko and His Friends']\n"
     ]
    }
   ],
   "source": [
    "print(\"Все российские фильмы/тв-шоу на сервисе Нетфликс:\")\n",
    "print(df.loc[df['country'] == 'Russia']['title'].values)"
   ]
  },
  {
   "cell_type": "code",
   "execution_count": 161,
   "id": "86e3f05a",
   "metadata": {
    "scrolled": false
   },
   "outputs": [
    {
     "data": {
      "image/png": "[encoded data removed]",
      "text/plain": [
       "<Figure size 640x480 with 1 Axes>"
      ]
     },
     "metadata": {},
     "output_type": "display_data"
    }
   ],
   "source": [
    "data = df['country'].value_counts().head(10)\n",
    "labels = data.index\n",
    "#explode = (0, 0.1)\n",
    "\n",
    "plt.pie(data, labels=labels, autopct='%0.1f%%', colors=sns.color_palette('Dark2'))\n",
    "plt.axis('equal')\n",
    "plt.title(\"Топ 10 стран-производителей по количеству фильмов и тв-шоу на сервисе Нетфликс \\n\\n\\n\")\n",
    "\n",
    "plt.show()"
   ]
  },
  {
   "cell_type": "markdown",
   "id": "bcdd96b9",
   "metadata": {},
   "source": [
    "**Альтернативный график**"
   ]
  },
  {
   "cell_type": "code",
   "execution_count": 162,
   "id": "5e858f26",
   "metadata": {
    "scrolled": true
   },
   "outputs": [
    {
     "data": {
      "image/png": "[encoded data removed]",
      "text/plain": [
       "<Figure size 1000x600 with 1 Axes>"
      ]
     },
     "metadata": {},
     "output_type": "display_data"
    }
   ],
   "source": [
    "data = df['country'].value_counts().head(10)\n",
    "labels = data.index\n",
    "\n",
    "plt.figure(figsize=(10, 6))\n",
    "sns.barplot(x=data, y=labels, palette='Dark2')\n",
    "\n",
    "plt.xlabel('\\n Количество фильмов/Тв-шоу')\n",
    "plt.ylabel('Страна')\n",
    "plt.title(\"Топ 10 стран-производителей по количеству фильмов и тв-шоу на сервисе Нетфликс\\n\\n\")\n",
    "\n",
    "plt.tight_layout()\n",
    "plt.show()"
   ]
  },
  {
   "cell_type": "code",
   "execution_count": 163,
   "id": "e42407b1",
   "metadata": {},
   "outputs": [
    {
     "data": {
      "text/plain": [
       "1 Season      1791\n",
       "2 Seasons      421\n",
       "3 Seasons      198\n",
       "90 min         152\n",
       "97 min         146\n",
       "              ... \n",
       "5 min            1\n",
       "16 min           1\n",
       "186 min          1\n",
       "193 min          1\n",
       "11 Seasons       1\n",
       "Name: duration, Length: 220, dtype: int64"
      ]
     },
     "execution_count": 163,
     "metadata": {},
     "output_type": "execute_result"
    }
   ],
   "source": [
    "duration = df['duration'].value_counts()\n",
    "duration"
   ]
  },
  {
   "cell_type": "markdown",
   "id": "d57265e5",
   "metadata": {},
   "source": [
    "**Продолжительность сериалов**"
   ]
  },
  {
   "cell_type": "code",
   "execution_count": 164,
   "id": "c3503ca1",
   "metadata": {},
   "outputs": [],
   "source": [
    "seasons_only = df[df['duration'].str.contains('Season')]"
   ]
  },
  {
   "cell_type": "code",
   "execution_count": 165,
   "id": "24a70d23",
   "metadata": {},
   "outputs": [
    {
     "data": {
      "text/plain": [
       "1 Season      1791\n",
       "2 Seasons      421\n",
       "3 Seasons      198\n",
       "4 Seasons       94\n",
       "5 Seasons       64\n",
       "6 Seasons       33\n",
       "7 Seasons       23\n",
       "8 Seasons       17\n",
       "9 Seasons        9\n",
       "10 Seasons       6\n",
       "15 Seasons       2\n",
       "13 Seasons       2\n",
       "12 Seasons       2\n",
       "17 Seasons       1\n",
       "11 Seasons       1\n",
       "Name: duration, dtype: int64"
      ]
     },
     "execution_count": 165,
     "metadata": {},
     "output_type": "execute_result"
    }
   ],
   "source": [
    "sum_of_seasons = seasons_only['duration'].value_counts()\n",
    "sum_of_seasons"
   ]
  },
  {
   "cell_type": "code",
   "execution_count": 166,
   "id": "7125f640",
   "metadata": {},
   "outputs": [
    {
     "data": {
      "application/vnd.plotly.v1+json": {
       "config": {
        "plotlyServerURL": "https://plot.ly"
       },
       "data": [
        {
         "alignmentgroup": "True",
         "hovertemplate": "Сезоны=%{y}<br>Количество=%{x}<extra></extra>",
         "legendgroup": "1 Season",
         "marker": {
          "color": "#440154",
          "pattern": {
           "shape": ""
          }
         },
         "name": "1 Season",
         "offsetgroup": "1 Season",
         "orientation": "h",
         "showlegend": true,
         "textposition": "auto",
         "texttemplate": "%{x}",
         "type": "bar",
         "x": [
          1791
         ],
         "xaxis": "x",
         "y": [
          "1 Season"
         ],
         "yaxis": "y"
        },
        {
         "alignmentgroup": "True",
         "hovertemplate": "Сезоны=%{y}<br>Количество=%{x}<extra></extra>",
         "legendgroup": "2 Seasons",
         "marker": {
          "color": "#482878",
          "pattern": {
           "shape": ""
          }
         },
         "name": "2 Seasons",
         "offsetgroup": "2 Seasons",
         "orientation": "h",
         "showlegend": true,
         "textposition": "auto",
         "texttemplate": "%{x}",
         "type": "bar",
         "x": [
          421
         ],
         "xaxis": "x",
         "y": [
          "2 Seasons"
         ],
         "yaxis": "y"
        },
        {
         "alignmentgroup": "True",
         "hovertemplate": "Сезоны=%{y}<br>Количество=%{x}<extra></extra>",
         "legendgroup": "3 Seasons",
         "marker": {
          "color": "#3e4989",
          "pattern": {
           "shape": ""
          }
         },
         "name": "3 Seasons",
         "offsetgroup": "3 Seasons",
         "orientation": "h",
         "showlegend": true,
         "textposition": "auto",
         "texttemplate": "%{x}",
         "type": "bar",
         "x": [
          198
         ],
         "xaxis": "x",
         "y": [
          "3 Seasons"
         ],
         "yaxis": "y"
        },
        {
         "alignmentgroup": "True",
         "hovertemplate": "Сезоны=%{y}<br>Количество=%{x}<extra></extra>",
         "legendgroup": "4 Seasons",
         "marker": {
          "color": "#31688e",
          "pattern": {
           "shape": ""
          }
         },
         "name": "4 Seasons",
         "offsetgroup": "4 Seasons",
         "orientation": "h",
         "showlegend": true,
         "textposition": "auto",
         "texttemplate": "%{x}",
         "type": "bar",
         "x": [
          94
         ],
         "xaxis": "x",
         "y": [
          "4 Seasons"
         ],
         "yaxis": "y"
        },
        {
         "alignmentgroup": "True",
         "hovertemplate": "Сезоны=%{y}<br>Количество=%{x}<extra></extra>",
         "legendgroup": "5 Seasons",
         "marker": {
          "color": "#26828e",
          "pattern": {
           "shape": ""
          }
         },
         "name": "5 Seasons",
         "offsetgroup": "5 Seasons",
         "orientation": "h",
         "showlegend": true,
         "textposition": "auto",
         "texttemplate": "%{x}",
         "type": "bar",
         "x": [
          64
         ],
         "xaxis": "x",
         "y": [
          "5 Seasons"
         ],
         "yaxis": "y"
        },
        {
         "alignmentgroup": "True",
         "hovertemplate": "Сезоны=%{y}<br>Количество=%{x}<extra></extra>",
         "legendgroup": "6 Seasons",
         "marker": {
          "color": "#1f9e89",
          "pattern": {
           "shape": ""
          }
         },
         "name": "6 Seasons",
         "offsetgroup": "6 Seasons",
         "orientation": "h",
         "showlegend": true,
         "textposition": "auto",
         "texttemplate": "%{x}",
         "type": "bar",
         "x": [
          33
         ],
         "xaxis": "x",
         "y": [
          "6 Seasons"
         ],
         "yaxis": "y"
        },
        {
         "alignmentgroup": "True",
         "hovertemplate": "Сезоны=%{y}<br>Количество=%{x}<extra></extra>",
         "legendgroup": "7 Seasons",
         "marker": {
          "color": "#35b779",
          "pattern": {
           "shape": ""
          }
         },
         "name": "7 Seasons",
         "offsetgroup": "7 Seasons",
         "orientation": "h",
         "showlegend": true,
         "textposition": "auto",
         "texttemplate": "%{x}",
         "type": "bar",
         "x": [
          23
         ],
         "xaxis": "x",
         "y": [
          "7 Seasons"
         ],
         "yaxis": "y"
        },
        {
         "alignmentgroup": "True",
         "hovertemplate": "Сезоны=%{y}<br>Количество=%{x}<extra></extra>",
         "legendgroup": "8 Seasons",
         "marker": {
          "color": "#6ece58",
          "pattern": {
           "shape": ""
          }
         },
         "name": "8 Seasons",
         "offsetgroup": "8 Seasons",
         "orientation": "h",
         "showlegend": true,
         "textposition": "auto",
         "texttemplate": "%{x}",
         "type": "bar",
         "x": [
          17
         ],
         "xaxis": "x",
         "y": [
          "8 Seasons"
         ],
         "yaxis": "y"
        },
        {
         "alignmentgroup": "True",
         "hovertemplate": "Сезоны=%{y}<br>Количество=%{x}<extra></extra>",
         "legendgroup": "9 Seasons",
         "marker": {
          "color": "#b5de2b",
          "pattern": {
           "shape": ""
          }
         },
         "name": "9 Seasons",
         "offsetgroup": "9 Seasons",
         "orientation": "h",
         "showlegend": true,
         "textposition": "auto",
         "texttemplate": "%{x}",
         "type": "bar",
         "x": [
          9
         ],
         "xaxis": "x",
         "y": [
          "9 Seasons"
         ],
         "yaxis": "y"
        },
        {
         "alignmentgroup": "True",
         "hovertemplate": "Сезоны=%{y}<br>Количество=%{x}<extra></extra>",
         "legendgroup": "10 Seasons",
         "marker": {
          "color": "#fde725",
          "pattern": {
           "shape": ""
          }
         },
         "name": "10 Seasons",
         "offsetgroup": "10 Seasons",
         "orientation": "h",
         "showlegend": true,
         "textposition": "auto",
         "texttemplate": "%{x}",
         "type": "bar",
         "x": [
          6
         ],
         "xaxis": "x",
         "y": [
          "10 Seasons"
         ],
         "yaxis": "y"
        },
        {
         "alignmentgroup": "True",
         "hovertemplate": "Сезоны=%{y}<br>Количество=%{x}<extra></extra>",
         "legendgroup": "15 Seasons",
         "marker": {
          "color": "#440154",
          "pattern": {
           "shape": ""
          }
         },
         "name": "15 Seasons",
         "offsetgroup": "15 Seasons",
         "orientation": "h",
         "showlegend": true,
         "textposition": "auto",
         "texttemplate": "%{x}",
         "type": "bar",
         "x": [
          2
         ],
         "xaxis": "x",
         "y": [
          "15 Seasons"
         ],
         "yaxis": "y"
        },
        {
         "alignmentgroup": "True",
         "hovertemplate": "Сезоны=%{y}<br>Количество=%{x}<extra></extra>",
         "legendgroup": "13 Seasons",
         "marker": {
          "color": "#482878",
          "pattern": {
           "shape": ""
          }
         },
         "name": "13 Seasons",
         "offsetgroup": "13 Seasons",
         "orientation": "h",
         "showlegend": true,
         "textposition": "auto",
         "texttemplate": "%{x}",
         "type": "bar",
         "x": [
          2
         ],
         "xaxis": "x",
         "y": [
          "13 Seasons"
         ],
         "yaxis": "y"
        },
        {
         "alignmentgroup": "True",
         "hovertemplate": "Сезоны=%{y}<br>Количество=%{x}<extra></extra>",
         "legendgroup": "12 Seasons",
         "marker": {
          "color": "#3e4989",
          "pattern": {
           "shape": ""
          }
         },
         "name": "12 Seasons",
         "offsetgroup": "12 Seasons",
         "orientation": "h",
         "showlegend": true,
         "textposition": "auto",
         "texttemplate": "%{x}",
         "type": "bar",
         "x": [
          2
         ],
         "xaxis": "x",
         "y": [
          "12 Seasons"
         ],
         "yaxis": "y"
        },
        {
         "alignmentgroup": "True",
         "hovertemplate": "Сезоны=%{y}<br>Количество=%{x}<extra></extra>",
         "legendgroup": "17 Seasons",
         "marker": {
          "color": "#31688e",
          "pattern": {
           "shape": ""
          }
         },
         "name": "17 Seasons",
         "offsetgroup": "17 Seasons",
         "orientation": "h",
         "showlegend": true,
         "textposition": "auto",
         "texttemplate": "%{x}",
         "type": "bar",
         "x": [
          1
         ],
         "xaxis": "x",
         "y": [
          "17 Seasons"
         ],
         "yaxis": "y"
        },
        {
         "alignmentgroup": "True",
         "hovertemplate": "Сезоны=%{y}<br>Количество=%{x}<extra></extra>",
         "legendgroup": "11 Seasons",
         "marker": {
          "color": "#26828e",
          "pattern": {
           "shape": ""
          }
         },
         "name": "11 Seasons",
         "offsetgroup": "11 Seasons",
         "orientation": "h",
         "showlegend": true,
         "textposition": "auto",
         "texttemplate": "%{x}",
         "type": "bar",
         "x": [
          1
         ],
         "xaxis": "x",
         "y": [
          "11 Seasons"
         ],
         "yaxis": "y"
        }
       ],
       "layout": {
        "barmode": "relative",
        "legend": {
         "title": {
          "text": "Сезоны"
         },
         "tracegroupgap": 0
        },
        "template": {
         "data": {
          "bar": [
           {
            "error_x": {
             "color": "#2a3f5f"
            },
            "error_y": {
             "color": "#2a3f5f"
            },
            "marker": {
             "line": {
              "color": "#E5ECF6",
              "width": 0.5
             },
             "pattern": {
              "fillmode": "overlay",
              "size": 10,
              "solidity": 0.2
             }
            },
            "type": "bar"
           }
          ],
          "barpolar": [
           {
            "marker": {
             "line": {
              "color": "#E5ECF6",
              "width": 0.5
             },
             "pattern": {
              "fillmode": "overlay",
              "size": 10,
              "solidity": 0.2
             }
            },
            "type": "barpolar"
           }
          ],
          "carpet": [
           {
            "aaxis": {
             "endlinecolor": "#2a3f5f",
             "gridcolor": "white",
             "linecolor": "white",
             "minorgridcolor": "white",
             "startlinecolor": "#2a3f5f"
            },
            "baxis": {
             "endlinecolor": "#2a3f5f",
             "gridcolor": "white",
             "linecolor": "white",
             "minorgridcolor": "white",
             "startlinecolor": "#2a3f5f"
            },
            "type": "carpet"
           }
          ],
          "choropleth": [
           {
            "colorbar": {
             "outlinewidth": 0,
             "ticks": ""
            },
            "type": "choropleth"
           }
          ],
          "contour": [
           {
            "colorbar": {
             "outlinewidth": 0,
             "ticks": ""
            },
            "colorscale": [
             [
              0,
              "#0d0887"
             ],
             [
              0.1111111111111111,
              "#46039f"
             ],
             [
              0.2222222222222222,
              "#7201a8"
             ],
             [
              0.3333333333333333,
              "#9c179e"
             ],
             [
              0.4444444444444444,
              "#bd3786"
             ],
             [
              0.5555555555555556,
              "#d8576b"
             ],
             [
              0.6666666666666666,
              "#ed7953"
             ],
             [
              0.7777777777777778,
              "#fb9f3a"
             ],
             [
              0.8888888888888888,
              "#fdca26"
             ],
             [
              1,
              "#f0f921"
             ]
            ],
            "type": "contour"
           }
          ],
          "contourcarpet": [
           {
            "colorbar": {
             "outlinewidth": 0,
             "ticks": ""
            },
            "type": "contourcarpet"
           }
          ],
          "heatmap": [
           {
            "colorbar": {
             "outlinewidth": 0,
             "ticks": ""
            },
            "colorscale": [
             [
              0,
              "#0d0887"
             ],
             [
              0.1111111111111111,
              "#46039f"
             ],
             [
              0.2222222222222222,
              "#7201a8"
             ],
             [
              0.3333333333333333,
              "#9c179e"
             ],
             [
              0.4444444444444444,
              "#bd3786"
             ],
             [
              0.5555555555555556,
              "#d8576b"
             ],
             [
              0.6666666666666666,
              "#ed7953"
             ],
             [
              0.7777777777777778,
              "#fb9f3a"
             ],
             [
              0.8888888888888888,
              "#fdca26"
             ],
             [
              1,
              "#f0f921"
             ]
            ],
            "type": "heatmap"
           }
          ],
          "heatmapgl": [
           {
            "colorbar": {
             "outlinewidth": 0,
             "ticks": ""
            },
            "colorscale": [
             [
              0,
              "#0d0887"
             ],
             [
              0.1111111111111111,
              "#46039f"
             ],
             [
              0.2222222222222222,
              "#7201a8"
             ],
             [
              0.3333333333333333,
              "#9c179e"
             ],
             [
              0.4444444444444444,
              "#bd3786"
             ],
             [
              0.5555555555555556,
              "#d8576b"
             ],
             [
              0.6666666666666666,
              "#ed7953"
             ],
             [
              0.7777777777777778,
              "#fb9f3a"
             ],
             [
              0.8888888888888888,
              "#fdca26"
             ],
             [
              1,
              "#f0f921"
             ]
            ],
            "type": "heatmapgl"
           }
          ],
          "histogram": [
           {
            "marker": {
             "pattern": {
              "fillmode": "overlay",
              "size": 10,
              "solidity": 0.2
             }
            },
            "type": "histogram"
           }
          ],
          "histogram2d": [
           {
            "colorbar": {
             "outlinewidth": 0,
             "ticks": ""
            },
            "colorscale": [
             [
              0,
              "#0d0887"
             ],
             [
              0.1111111111111111,
              "#46039f"
             ],
             [
              0.2222222222222222,
              "#7201a8"
             ],
             [
              0.3333333333333333,
              "#9c179e"
             ],
             [
              0.4444444444444444,
              "#bd3786"
             ],
             [
              0.5555555555555556,
              "#d8576b"
             ],
             [
              0.6666666666666666,
              "#ed7953"
             ],
             [
              0.7777777777777778,
              "#fb9f3a"
             ],
             [
              0.8888888888888888,
              "#fdca26"
             ],
             [
              1,
              "#f0f921"
             ]
            ],
            "type": "histogram2d"
           }
          ],
          "histogram2dcontour": [
           {
            "colorbar": {
             "outlinewidth": 0,
             "ticks": ""
            },
            "colorscale": [
             [
              0,
              "#0d0887"
             ],
             [
              0.1111111111111111,
              "#46039f"
             ],
             [
              0.2222222222222222,
              "#7201a8"
             ],
             [
              0.3333333333333333,
              "#9c179e"
             ],
             [
              0.4444444444444444,
              "#bd3786"
             ],
             [
              0.5555555555555556,
              "#d8576b"
             ],
             [
              0.6666666666666666,
              "#ed7953"
             ],
             [
              0.7777777777777778,
              "#fb9f3a"
             ],
             [
              0.8888888888888888,
              "#fdca26"
             ],
             [
              1,
              "#f0f921"
             ]
            ],
            "type": "histogram2dcontour"
           }
          ],
          "mesh3d": [
           {
            "colorbar": {
             "outlinewidth": 0,
             "ticks": ""
            },
            "type": "mesh3d"
           }
          ],
          "parcoords": [
           {
            "line": {
             "colorbar": {
              "outlinewidth": 0,
              "ticks": ""
             }
            },
            "type": "parcoords"
           }
          ],
          "pie": [
           {
            "automargin": true,
            "type": "pie"
           }
          ],
          "scatter": [
           {
            "fillpattern": {
             "fillmode": "overlay",
             "size": 10,
             "solidity": 0.2
            },
            "type": "scatter"
           }
          ],
          "scatter3d": [
           {
            "line": {
             "colorbar": {
              "outlinewidth": 0,
              "ticks": ""
             }
            },
            "marker": {
             "colorbar": {
              "outlinewidth": 0,
              "ticks": ""
             }
            },
            "type": "scatter3d"
           }
          ],
          "scattercarpet": [
           {
            "marker": {
             "colorbar": {
              "outlinewidth": 0,
              "ticks": ""
             }
            },
            "type": "scattercarpet"
           }
          ],
          "scattergeo": [
           {
            "marker": {
             "colorbar": {
              "outlinewidth": 0,
              "ticks": ""
             }
            },
            "type": "scattergeo"
           }
          ],
          "scattergl": [
           {
            "marker": {
             "colorbar": {
              "outlinewidth": 0,
              "ticks": ""
             }
            },
            "type": "scattergl"
           }
          ],
          "scattermapbox": [
           {
            "marker": {
             "colorbar": {
              "outlinewidth": 0,
              "ticks": ""
             }
            },
            "type": "scattermapbox"
           }
          ],
          "scatterpolar": [
           {
            "marker": {
             "colorbar": {
              "outlinewidth": 0,
              "ticks": ""
             }
            },
            "type": "scatterpolar"
           }
          ],
          "scatterpolargl": [
           {
            "marker": {
             "colorbar": {
              "outlinewidth": 0,
              "ticks": ""
             }
            },
            "type": "scatterpolargl"
           }
          ],
          "scatterternary": [
           {
            "marker": {
             "colorbar": {
              "outlinewidth": 0,
              "ticks": ""
             }
            },
            "type": "scatterternary"
           }
          ],
          "surface": [
           {
            "colorbar": {
             "outlinewidth": 0,
             "ticks": ""
            },
            "colorscale": [
             [
              0,
              "#0d0887"
             ],
             [
              0.1111111111111111,
              "#46039f"
             ],
             [
              0.2222222222222222,
              "#7201a8"
             ],
             [
              0.3333333333333333,
              "#9c179e"
             ],
             [
              0.4444444444444444,
              "#bd3786"
             ],
             [
              0.5555555555555556,
              "#d8576b"
             ],
             [
              0.6666666666666666,
              "#ed7953"
             ],
             [
              0.7777777777777778,
              "#fb9f3a"
             ],
             [
              0.8888888888888888,
              "#fdca26"
             ],
             [
              1,
              "#f0f921"
             ]
            ],
            "type": "surface"
           }
          ],
          "table": [
           {
            "cells": {
             "fill": {
              "color": "#EBF0F8"
             },
             "line": {
              "color": "white"
             }
            },
            "header": {
             "fill": {
              "color": "#C8D4E3"
             },
             "line": {
              "color": "white"
             }
            },
            "type": "table"
           }
          ]
         },
         "layout": {
          "annotationdefaults": {
           "arrowcolor": "#2a3f5f",
           "arrowhead": 0,
           "arrowwidth": 1
          },
          "autotypenumbers": "strict",
          "coloraxis": {
           "colorbar": {
            "outlinewidth": 0,
            "ticks": ""
           }
          },
          "colorscale": {
           "diverging": [
            [
             0,
             "#8e0152"
            ],
            [
             0.1,
             "#c51b7d"
            ],
            [
             0.2,
             "#de77ae"
            ],
            [
             0.3,
             "#f1b6da"
            ],
            [
             0.4,
             "#fde0ef"
            ],
            [
             0.5,
             "#f7f7f7"
            ],
            [
             0.6,
             "#e6f5d0"
            ],
            [
             0.7,
             "#b8e186"
            ],
            [
             0.8,
             "#7fbc41"
            ],
            [
             0.9,
             "#4d9221"
            ],
            [
             1,
             "#276419"
            ]
           ],
           "sequential": [
            [
             0,
             "#0d0887"
            ],
            [
             0.1111111111111111,
             "#46039f"
            ],
            [
             0.2222222222222222,
             "#7201a8"
            ],
            [
             0.3333333333333333,
             "#9c179e"
            ],
            [
             0.4444444444444444,
             "#bd3786"
            ],
            [
             0.5555555555555556,
             "#d8576b"
            ],
            [
             0.6666666666666666,
             "#ed7953"
            ],
            [
             0.7777777777777778,
             "#fb9f3a"
            ],
            [
             0.8888888888888888,
             "#fdca26"
            ],
            [
             1,
             "#f0f921"
            ]
           ],
           "sequentialminus": [
            [
             0,
             "#0d0887"
            ],
            [
             0.1111111111111111,
             "#46039f"
            ],
            [
             0.2222222222222222,
             "#7201a8"
            ],
            [
             0.3333333333333333,
             "#9c179e"
            ],
            [
             0.4444444444444444,
             "#bd3786"
            ],
            [
             0.5555555555555556,
             "#d8576b"
            ],
            [
             0.6666666666666666,
             "#ed7953"
            ],
            [
             0.7777777777777778,
             "#fb9f3a"
            ],
            [
             0.8888888888888888,
             "#fdca26"
            ],
            [
             1,
             "#f0f921"
            ]
           ]
          },
          "colorway": [
           "#636efa",
           "#EF553B",
           "#00cc96",
           "#ab63fa",
           "#FFA15A",
           "#19d3f3",
           "#FF6692",
           "#B6E880",
           "#FF97FF",
           "#FECB52"
          ],
          "font": {
           "color": "#2a3f5f"
          },
          "geo": {
           "bgcolor": "white",
           "lakecolor": "white",
           "landcolor": "#E5ECF6",
           "showlakes": true,
           "showland": true,
           "subunitcolor": "white"
          },
          "hoverlabel": {
           "align": "left"
          },
          "hovermode": "closest",
          "mapbox": {
           "style": "light"
          },
          "paper_bgcolor": "white",
          "plot_bgcolor": "#E5ECF6",
          "polar": {
           "angularaxis": {
            "gridcolor": "white",
            "linecolor": "white",
            "ticks": ""
           },
           "bgcolor": "#E5ECF6",
           "radialaxis": {
            "gridcolor": "white",
            "linecolor": "white",
            "ticks": ""
           }
          },
          "scene": {
           "xaxis": {
            "backgroundcolor": "#E5ECF6",
            "gridcolor": "white",
            "gridwidth": 2,
            "linecolor": "white",
            "showbackground": true,
            "ticks": "",
            "zerolinecolor": "white"
           },
           "yaxis": {
            "backgroundcolor": "#E5ECF6",
            "gridcolor": "white",
            "gridwidth": 2,
            "linecolor": "white",
            "showbackground": true,
            "ticks": "",
            "zerolinecolor": "white"
           },
           "zaxis": {
            "backgroundcolor": "#E5ECF6",
            "gridcolor": "white",
            "gridwidth": 2,
            "linecolor": "white",
            "showbackground": true,
            "ticks": "",
            "zerolinecolor": "white"
           }
          },
          "shapedefaults": {
           "line": {
            "color": "#2a3f5f"
           }
          },
          "ternary": {
           "aaxis": {
            "gridcolor": "white",
            "linecolor": "white",
            "ticks": ""
           },
           "baxis": {
            "gridcolor": "white",
            "linecolor": "white",
            "ticks": ""
           },
           "bgcolor": "#E5ECF6",
           "caxis": {
            "gridcolor": "white",
            "linecolor": "white",
            "ticks": ""
           }
          },
          "title": {
           "x": 0.05
          },
          "xaxis": {
           "automargin": true,
           "gridcolor": "white",
           "linecolor": "white",
           "ticks": "",
           "title": {
            "standoff": 15
           },
           "zerolinecolor": "white",
           "zerolinewidth": 2
          },
          "yaxis": {
           "automargin": true,
           "gridcolor": "white",
           "linecolor": "white",
           "ticks": "",
           "title": {
            "standoff": 15
           },
           "zerolinecolor": "white",
           "zerolinewidth": 2
          }
         }
        },
        "title": {
         "text": "Продолжительность сериалов"
        },
        "xaxis": {
         "anchor": "y",
         "domain": [
          0,
          1
         ],
         "title": {
          "text": "Количество"
         }
        },
        "yaxis": {
         "anchor": "x",
         "categoryarray": [
          "11 Seasons",
          "17 Seasons",
          "12 Seasons",
          "13 Seasons",
          "15 Seasons",
          "10 Seasons",
          "9 Seasons",
          "8 Seasons",
          "7 Seasons",
          "6 Seasons",
          "5 Seasons",
          "4 Seasons",
          "3 Seasons",
          "2 Seasons",
          "1 Season"
         ],
         "categoryorder": "array",
         "domain": [
          0,
          1
         ],
         "title": {
          "text": "Сезоны"
         }
        }
       }
      },
      "text/html": [
       "<div>                            <div id=\"0f82c727-d428-432a-b12d-11420bbdaef2\" class=\"plotly-graph-div\" style=\"height:525px; width:100%;\"></div>            <script type=\"text/javascript\">                require([\"plotly\"], function(Plotly) {                    window.PLOTLYENV=window.PLOTLYENV || {};                                    if (document.getElementById(\"0f82c727-d428-432a-b12d-11420bbdaef2\")) {                    Plotly.newPlot(                        \"0f82c727-d428-432a-b12d-11420bbdaef2\",                        [{\"alignmentgroup\":\"True\",\"hovertemplate\":\"\\u0421\\u0435\\u0437\\u043e\\u043d\\u044b=%{y}<br>\\u041a\\u043e\\u043b\\u0438\\u0447\\u0435\\u0441\\u0442\\u0432\\u043e=%{x}<extra></extra>\",\"legendgroup\":\"1 Season\",\"marker\":{\"color\":\"#440154\",\"pattern\":{\"shape\":\"\"}},\"name\":\"1 Season\",\"offsetgroup\":\"1 Season\",\"orientation\":\"h\",\"showlegend\":true,\"textposition\":\"auto\",\"texttemplate\":\"%{x}\",\"x\":[1791],\"xaxis\":\"x\",\"y\":[\"1 Season\"],\"yaxis\":\"y\",\"type\":\"bar\"},{\"alignmentgroup\":\"True\",\"hovertemplate\":\"\\u0421\\u0435\\u0437\\u043e\\u043d\\u044b=%{y}<br>\\u041a\\u043e\\u043b\\u0438\\u0447\\u0435\\u0441\\u0442\\u0432\\u043e=%{x}<extra></extra>\",\"legendgroup\":\"2 Seasons\",\"marker\":{\"color\":\"#482878\",\"pattern\":{\"shape\":\"\"}},\"name\":\"2 Seasons\",\"offsetgroup\":\"2 Seasons\",\"orientation\":\"h\",\"showlegend\":true,\"textposition\":\"auto\",\"texttemplate\":\"%{x}\",\"x\":[421],\"xaxis\":\"x\",\"y\":[\"2 Seasons\"],\"yaxis\":\"y\",\"type\":\"bar\"},{\"alignmentgroup\":\"True\",\"hovertemplate\":\"\\u0421\\u0435\\u0437\\u043e\\u043d\\u044b=%{y}<br>\\u041a\\u043e\\u043b\\u0438\\u0447\\u0435\\u0441\\u0442\\u0432\\u043e=%{x}<extra></extra>\",\"legendgroup\":\"3 Seasons\",\"marker\":{\"color\":\"#3e4989\",\"pattern\":{\"shape\":\"\"}},\"name\":\"3 Seasons\",\"offsetgroup\":\"3 Seasons\",\"orientation\":\"h\",\"showlegend\":true,\"textposition\":\"auto\",\"texttemplate\":\"%{x}\",\"x\":[198],\"xaxis\":\"x\",\"y\":[\"3 Seasons\"],\"yaxis\":\"y\",\"type\":\"bar\"},{\"alignmentgroup\":\"True\",\"hovertemplate\":\"\\u0421\\u0435\\u0437\\u043e\\u043d\\u044b=%{y}<br>\\u041a\\u043e\\u043b\\u0438\\u0447\\u0435\\u0441\\u0442\\u0432\\u043e=%{x}<extra></extra>\",\"legendgroup\":\"4 Seasons\",\"marker\":{\"color\":\"#31688e\",\"pattern\":{\"shape\":\"\"}},\"name\":\"4 Seasons\",\"offsetgroup\":\"4 Seasons\",\"orientation\":\"h\",\"showlegend\":true,\"textposition\":\"auto\",\"texttemplate\":\"%{x}\",\"x\":[94],\"xaxis\":\"x\",\"y\":[\"4 Seasons\"],\"yaxis\":\"y\",\"type\":\"bar\"},{\"alignmentgroup\":\"True\",\"hovertemplate\":\"\\u0421\\u0435\\u0437\\u043e\\u043d\\u044b=%{y}<br>\\u041a\\u043e\\u043b\\u0438\\u0447\\u0435\\u0441\\u0442\\u0432\\u043e=%{x}<extra></extra>\",\"legendgroup\":\"5 Seasons\",\"marker\":{\"color\":\"#26828e\",\"pattern\":{\"shape\":\"\"}},\"name\":\"5 Seasons\",\"offsetgroup\":\"5 Seasons\",\"orientation\":\"h\",\"showlegend\":true,\"textposition\":\"auto\",\"texttemplate\":\"%{x}\",\"x\":[64],\"xaxis\":\"x\",\"y\":[\"5 Seasons\"],\"yaxis\":\"y\",\"type\":\"bar\"},{\"alignmentgroup\":\"True\",\"hovertemplate\":\"\\u0421\\u0435\\u0437\\u043e\\u043d\\u044b=%{y}<br>\\u041a\\u043e\\u043b\\u0438\\u0447\\u0435\\u0441\\u0442\\u0432\\u043e=%{x}<extra></extra>\",\"legendgroup\":\"6 Seasons\",\"marker\":{\"color\":\"#1f9e89\",\"pattern\":{\"shape\":\"\"}},\"name\":\"6 Seasons\",\"offsetgroup\":\"6 Seasons\",\"orientation\":\"h\",\"showlegend\":true,\"textposition\":\"auto\",\"texttemplate\":\"%{x}\",\"x\":[33],\"xaxis\":\"x\",\"y\":[\"6 Seasons\"],\"yaxis\":\"y\",\"type\":\"bar\"},{\"alignmentgroup\":\"True\",\"hovertemplate\":\"\\u0421\\u0435\\u0437\\u043e\\u043d\\u044b=%{y}<br>\\u041a\\u043e\\u043b\\u0438\\u0447\\u0435\\u0441\\u0442\\u0432\\u043e=%{x}<extra></extra>\",\"legendgroup\":\"7 Seasons\",\"marker\":{\"color\":\"#35b779\",\"pattern\":{\"shape\":\"\"}},\"name\":\"7 Seasons\",\"offsetgroup\":\"7 Seasons\",\"orientation\":\"h\",\"showlegend\":true,\"textposition\":\"auto\",\"texttemplate\":\"%{x}\",\"x\":[23],\"xaxis\":\"x\",\"y\":[\"7 Seasons\"],\"yaxis\":\"y\",\"type\":\"bar\"},{\"alignmentgroup\":\"True\",\"hovertemplate\":\"\\u0421\\u0435\\u0437\\u043e\\u043d\\u044b=%{y}<br>\\u041a\\u043e\\u043b\\u0438\\u0447\\u0435\\u0441\\u0442\\u0432\\u043e=%{x}<extra></extra>\",\"legendgroup\":\"8 Seasons\",\"marker\":{\"color\":\"#6ece58\",\"pattern\":{\"shape\":\"\"}},\"name\":\"8 Seasons\",\"offsetgroup\":\"8 Seasons\",\"orientation\":\"h\",\"showlegend\":true,\"textposition\":\"auto\",\"texttemplate\":\"%{x}\",\"x\":[17],\"xaxis\":\"x\",\"y\":[\"8 Seasons\"],\"yaxis\":\"y\",\"type\":\"bar\"},{\"alignmentgroup\":\"True\",\"hovertemplate\":\"\\u0421\\u0435\\u0437\\u043e\\u043d\\u044b=%{y}<br>\\u041a\\u043e\\u043b\\u0438\\u0447\\u0435\\u0441\\u0442\\u0432\\u043e=%{x}<extra></extra>\",\"legendgroup\":\"9 Seasons\",\"marker\":{\"color\":\"#b5de2b\",\"pattern\":{\"shape\":\"\"}},\"name\":\"9 Seasons\",\"offsetgroup\":\"9 Seasons\",\"orientation\":\"h\",\"showlegend\":true,\"textposition\":\"auto\",\"texttemplate\":\"%{x}\",\"x\":[9],\"xaxis\":\"x\",\"y\":[\"9 Seasons\"],\"yaxis\":\"y\",\"type\":\"bar\"},{\"alignmentgroup\":\"True\",\"hovertemplate\":\"\\u0421\\u0435\\u0437\\u043e\\u043d\\u044b=%{y}<br>\\u041a\\u043e\\u043b\\u0438\\u0447\\u0435\\u0441\\u0442\\u0432\\u043e=%{x}<extra></extra>\",\"legendgroup\":\"10 Seasons\",\"marker\":{\"color\":\"#fde725\",\"pattern\":{\"shape\":\"\"}},\"name\":\"10 Seasons\",\"offsetgroup\":\"10 Seasons\",\"orientation\":\"h\",\"showlegend\":true,\"textposition\":\"auto\",\"texttemplate\":\"%{x}\",\"x\":[6],\"xaxis\":\"x\",\"y\":[\"10 Seasons\"],\"yaxis\":\"y\",\"type\":\"bar\"},{\"alignmentgroup\":\"True\",\"hovertemplate\":\"\\u0421\\u0435\\u0437\\u043e\\u043d\\u044b=%{y}<br>\\u041a\\u043e\\u043b\\u0438\\u0447\\u0435\\u0441\\u0442\\u0432\\u043e=%{x}<extra></extra>\",\"legendgroup\":\"15 Seasons\",\"marker\":{\"color\":\"#440154\",\"pattern\":{\"shape\":\"\"}},\"name\":\"15 Seasons\",\"offsetgroup\":\"15 Seasons\",\"orientation\":\"h\",\"showlegend\":true,\"textposition\":\"auto\",\"texttemplate\":\"%{x}\",\"x\":[2],\"xaxis\":\"x\",\"y\":[\"15 Seasons\"],\"yaxis\":\"y\",\"type\":\"bar\"},{\"alignmentgroup\":\"True\",\"hovertemplate\":\"\\u0421\\u0435\\u0437\\u043e\\u043d\\u044b=%{y}<br>\\u041a\\u043e\\u043b\\u0438\\u0447\\u0435\\u0441\\u0442\\u0432\\u043e=%{x}<extra></extra>\",\"legendgroup\":\"13 Seasons\",\"marker\":{\"color\":\"#482878\",\"pattern\":{\"shape\":\"\"}},\"name\":\"13 Seasons\",\"offsetgroup\":\"13 Seasons\",\"orientation\":\"h\",\"showlegend\":true,\"textposition\":\"auto\",\"texttemplate\":\"%{x}\",\"x\":[2],\"xaxis\":\"x\",\"y\":[\"13 Seasons\"],\"yaxis\":\"y\",\"type\":\"bar\"},{\"alignmentgroup\":\"True\",\"hovertemplate\":\"\\u0421\\u0435\\u0437\\u043e\\u043d\\u044b=%{y}<br>\\u041a\\u043e\\u043b\\u0438\\u0447\\u0435\\u0441\\u0442\\u0432\\u043e=%{x}<extra></extra>\",\"legendgroup\":\"12 Seasons\",\"marker\":{\"color\":\"#3e4989\",\"pattern\":{\"shape\":\"\"}},\"name\":\"12 Seasons\",\"offsetgroup\":\"12 Seasons\",\"orientation\":\"h\",\"showlegend\":true,\"textposition\":\"auto\",\"texttemplate\":\"%{x}\",\"x\":[2],\"xaxis\":\"x\",\"y\":[\"12 Seasons\"],\"yaxis\":\"y\",\"type\":\"bar\"},{\"alignmentgroup\":\"True\",\"hovertemplate\":\"\\u0421\\u0435\\u0437\\u043e\\u043d\\u044b=%{y}<br>\\u041a\\u043e\\u043b\\u0438\\u0447\\u0435\\u0441\\u0442\\u0432\\u043e=%{x}<extra></extra>\",\"legendgroup\":\"17 Seasons\",\"marker\":{\"color\":\"#31688e\",\"pattern\":{\"shape\":\"\"}},\"name\":\"17 Seasons\",\"offsetgroup\":\"17 Seasons\",\"orientation\":\"h\",\"showlegend\":true,\"textposition\":\"auto\",\"texttemplate\":\"%{x}\",\"x\":[1],\"xaxis\":\"x\",\"y\":[\"17 Seasons\"],\"yaxis\":\"y\",\"type\":\"bar\"},{\"alignmentgroup\":\"True\",\"hovertemplate\":\"\\u0421\\u0435\\u0437\\u043e\\u043d\\u044b=%{y}<br>\\u041a\\u043e\\u043b\\u0438\\u0447\\u0435\\u0441\\u0442\\u0432\\u043e=%{x}<extra></extra>\",\"legendgroup\":\"11 Seasons\",\"marker\":{\"color\":\"#26828e\",\"pattern\":{\"shape\":\"\"}},\"name\":\"11 Seasons\",\"offsetgroup\":\"11 Seasons\",\"orientation\":\"h\",\"showlegend\":true,\"textposition\":\"auto\",\"texttemplate\":\"%{x}\",\"x\":[1],\"xaxis\":\"x\",\"y\":[\"11 Seasons\"],\"yaxis\":\"y\",\"type\":\"bar\"}],                        {\"template\":{\"data\":{\"histogram2dcontour\":[{\"type\":\"histogram2dcontour\",\"colorbar\":{\"outlinewidth\":0,\"ticks\":\"\"},\"colorscale\":[[0.0,\"#0d0887\"],[0.1111111111111111,\"#46039f\"],[0.2222222222222222,\"#7201a8\"],[0.3333333333333333,\"#9c179e\"],[0.4444444444444444,\"#bd3786\"],[0.5555555555555556,\"#d8576b\"],[0.6666666666666666,\"#ed7953\"],[0.7777777777777778,\"#fb9f3a\"],[0.8888888888888888,\"#fdca26\"],[1.0,\"#f0f921\"]]}],\"choropleth\":[{\"type\":\"choropleth\",\"colorbar\":{\"outlinewidth\":0,\"ticks\":\"\"}}],\"histogram2d\":[{\"type\":\"histogram2d\",\"colorbar\":{\"outlinewidth\":0,\"ticks\":\"\"},\"colorscale\":[[0.0,\"#0d0887\"],[0.1111111111111111,\"#46039f\"],[0.2222222222222222,\"#7201a8\"],[0.3333333333333333,\"#9c179e\"],[0.4444444444444444,\"#bd3786\"],[0.5555555555555556,\"#d8576b\"],[0.6666666666666666,\"#ed7953\"],[0.7777777777777778,\"#fb9f3a\"],[0.8888888888888888,\"#fdca26\"],[1.0,\"#f0f921\"]]}],\"heatmap\":[{\"type\":\"heatmap\",\"colorbar\":{\"outlinewidth\":0,\"ticks\":\"\"},\"colorscale\":[[0.0,\"#0d0887\"],[0.1111111111111111,\"#46039f\"],[0.2222222222222222,\"#7201a8\"],[0.3333333333333333,\"#9c179e\"],[0.4444444444444444,\"#bd3786\"],[0.5555555555555556,\"#d8576b\"],[0.6666666666666666,\"#ed7953\"],[0.7777777777777778,\"#fb9f3a\"],[0.8888888888888888,\"#fdca26\"],[1.0,\"#f0f921\"]]}],\"heatmapgl\":[{\"type\":\"heatmapgl\",\"colorbar\":{\"outlinewidth\":0,\"ticks\":\"\"},\"colorscale\":[[0.0,\"#0d0887\"],[0.1111111111111111,\"#46039f\"],[0.2222222222222222,\"#7201a8\"],[0.3333333333333333,\"#9c179e\"],[0.4444444444444444,\"#bd3786\"],[0.5555555555555556,\"#d8576b\"],[0.6666666666666666,\"#ed7953\"],[0.7777777777777778,\"#fb9f3a\"],[0.8888888888888888,\"#fdca26\"],[1.0,\"#f0f921\"]]}],\"contourcarpet\":[{\"type\":\"contourcarpet\",\"colorbar\":{\"outlinewidth\":0,\"ticks\":\"\"}}],\"contour\":[{\"type\":\"contour\",\"colorbar\":{\"outlinewidth\":0,\"ticks\":\"\"},\"colorscale\":[[0.0,\"#0d0887\"],[0.1111111111111111,\"#46039f\"],[0.2222222222222222,\"#7201a8\"],[0.3333333333333333,\"#9c179e\"],[0.4444444444444444,\"#bd3786\"],[0.5555555555555556,\"#d8576b\"],[0.6666666666666666,\"#ed7953\"],[0.7777777777777778,\"#fb9f3a\"],[0.8888888888888888,\"#fdca26\"],[1.0,\"#f0f921\"]]}],\"surface\":[{\"type\":\"surface\",\"colorbar\":{\"outlinewidth\":0,\"ticks\":\"\"},\"colorscale\":[[0.0,\"#0d0887\"],[0.1111111111111111,\"#46039f\"],[0.2222222222222222,\"#7201a8\"],[0.3333333333333333,\"#9c179e\"],[0.4444444444444444,\"#bd3786\"],[0.5555555555555556,\"#d8576b\"],[0.6666666666666666,\"#ed7953\"],[0.7777777777777778,\"#fb9f3a\"],[0.8888888888888888,\"#fdca26\"],[1.0,\"#f0f921\"]]}],\"mesh3d\":[{\"type\":\"mesh3d\",\"colorbar\":{\"outlinewidth\":0,\"ticks\":\"\"}}],\"scatter\":[{\"fillpattern\":{\"fillmode\":\"overlay\",\"size\":10,\"solidity\":0.2},\"type\":\"scatter\"}],\"parcoords\":[{\"type\":\"parcoords\",\"line\":{\"colorbar\":{\"outlinewidth\":0,\"ticks\":\"\"}}}],\"scatterpolargl\":[{\"type\":\"scatterpolargl\",\"marker\":{\"colorbar\":{\"outlinewidth\":0,\"ticks\":\"\"}}}],\"bar\":[{\"error_x\":{\"color\":\"#2a3f5f\"},\"error_y\":{\"color\":\"#2a3f5f\"},\"marker\":{\"line\":{\"color\":\"#E5ECF6\",\"width\":0.5},\"pattern\":{\"fillmode\":\"overlay\",\"size\":10,\"solidity\":0.2}},\"type\":\"bar\"}],\"scattergeo\":[{\"type\":\"scattergeo\",\"marker\":{\"colorbar\":{\"outlinewidth\":0,\"ticks\":\"\"}}}],\"scatterpolar\":[{\"type\":\"scatterpolar\",\"marker\":{\"colorbar\":{\"outlinewidth\":0,\"ticks\":\"\"}}}],\"histogram\":[{\"marker\":{\"pattern\":{\"fillmode\":\"overlay\",\"size\":10,\"solidity\":0.2}},\"type\":\"histogram\"}],\"scattergl\":[{\"type\":\"scattergl\",\"marker\":{\"colorbar\":{\"outlinewidth\":0,\"ticks\":\"\"}}}],\"scatter3d\":[{\"type\":\"scatter3d\",\"line\":{\"colorbar\":{\"outlinewidth\":0,\"ticks\":\"\"}},\"marker\":{\"colorbar\":{\"outlinewidth\":0,\"ticks\":\"\"}}}],\"scattermapbox\":[{\"type\":\"scattermapbox\",\"marker\":{\"colorbar\":{\"outlinewidth\":0,\"ticks\":\"\"}}}],\"scatterternary\":[{\"type\":\"scatterternary\",\"marker\":{\"colorbar\":{\"outlinewidth\":0,\"ticks\":\"\"}}}],\"scattercarpet\":[{\"type\":\"scattercarpet\",\"marker\":{\"colorbar\":{\"outlinewidth\":0,\"ticks\":\"\"}}}],\"carpet\":[{\"aaxis\":{\"endlinecolor\":\"#2a3f5f\",\"gridcolor\":\"white\",\"linecolor\":\"white\",\"minorgridcolor\":\"white\",\"startlinecolor\":\"#2a3f5f\"},\"baxis\":{\"endlinecolor\":\"#2a3f5f\",\"gridcolor\":\"white\",\"linecolor\":\"white\",\"minorgridcolor\":\"white\",\"startlinecolor\":\"#2a3f5f\"},\"type\":\"carpet\"}],\"table\":[{\"cells\":{\"fill\":{\"color\":\"#EBF0F8\"},\"line\":{\"color\":\"white\"}},\"header\":{\"fill\":{\"color\":\"#C8D4E3\"},\"line\":{\"color\":\"white\"}},\"type\":\"table\"}],\"barpolar\":[{\"marker\":{\"line\":{\"color\":\"#E5ECF6\",\"width\":0.5},\"pattern\":{\"fillmode\":\"overlay\",\"size\":10,\"solidity\":0.2}},\"type\":\"barpolar\"}],\"pie\":[{\"automargin\":true,\"type\":\"pie\"}]},\"layout\":{\"autotypenumbers\":\"strict\",\"colorway\":[\"#636efa\",\"#EF553B\",\"#00cc96\",\"#ab63fa\",\"#FFA15A\",\"#19d3f3\",\"#FF6692\",\"#B6E880\",\"#FF97FF\",\"#FECB52\"],\"font\":{\"color\":\"#2a3f5f\"},\"hovermode\":\"closest\",\"hoverlabel\":{\"align\":\"left\"},\"paper_bgcolor\":\"white\",\"plot_bgcolor\":\"#E5ECF6\",\"polar\":{\"bgcolor\":\"#E5ECF6\",\"angularaxis\":{\"gridcolor\":\"white\",\"linecolor\":\"white\",\"ticks\":\"\"},\"radialaxis\":{\"gridcolor\":\"white\",\"linecolor\":\"white\",\"ticks\":\"\"}},\"ternary\":{\"bgcolor\":\"#E5ECF6\",\"aaxis\":{\"gridcolor\":\"white\",\"linecolor\":\"white\",\"ticks\":\"\"},\"baxis\":{\"gridcolor\":\"white\",\"linecolor\":\"white\",\"ticks\":\"\"},\"caxis\":{\"gridcolor\":\"white\",\"linecolor\":\"white\",\"ticks\":\"\"}},\"coloraxis\":{\"colorbar\":{\"outlinewidth\":0,\"ticks\":\"\"}},\"colorscale\":{\"sequential\":[[0.0,\"#0d0887\"],[0.1111111111111111,\"#46039f\"],[0.2222222222222222,\"#7201a8\"],[0.3333333333333333,\"#9c179e\"],[0.4444444444444444,\"#bd3786\"],[0.5555555555555556,\"#d8576b\"],[0.6666666666666666,\"#ed7953\"],[0.7777777777777778,\"#fb9f3a\"],[0.8888888888888888,\"#fdca26\"],[1.0,\"#f0f921\"]],\"sequentialminus\":[[0.0,\"#0d0887\"],[0.1111111111111111,\"#46039f\"],[0.2222222222222222,\"#7201a8\"],[0.3333333333333333,\"#9c179e\"],[0.4444444444444444,\"#bd3786\"],[0.5555555555555556,\"#d8576b\"],[0.6666666666666666,\"#ed7953\"],[0.7777777777777778,\"#fb9f3a\"],[0.8888888888888888,\"#fdca26\"],[1.0,\"#f0f921\"]],\"diverging\":[[0,\"#8e0152\"],[0.1,\"#c51b7d\"],[0.2,\"#de77ae\"],[0.3,\"#f1b6da\"],[0.4,\"#fde0ef\"],[0.5,\"#f7f7f7\"],[0.6,\"#e6f5d0\"],[0.7,\"#b8e186\"],[0.8,\"#7fbc41\"],[0.9,\"#4d9221\"],[1,\"#276419\"]]},\"xaxis\":{\"gridcolor\":\"white\",\"linecolor\":\"white\",\"ticks\":\"\",\"title\":{\"standoff\":15},\"zerolinecolor\":\"white\",\"automargin\":true,\"zerolinewidth\":2},\"yaxis\":{\"gridcolor\":\"white\",\"linecolor\":\"white\",\"ticks\":\"\",\"title\":{\"standoff\":15},\"zerolinecolor\":\"white\",\"automargin\":true,\"zerolinewidth\":2},\"scene\":{\"xaxis\":{\"backgroundcolor\":\"#E5ECF6\",\"gridcolor\":\"white\",\"linecolor\":\"white\",\"showbackground\":true,\"ticks\":\"\",\"zerolinecolor\":\"white\",\"gridwidth\":2},\"yaxis\":{\"backgroundcolor\":\"#E5ECF6\",\"gridcolor\":\"white\",\"linecolor\":\"white\",\"showbackground\":true,\"ticks\":\"\",\"zerolinecolor\":\"white\",\"gridwidth\":2},\"zaxis\":{\"backgroundcolor\":\"#E5ECF6\",\"gridcolor\":\"white\",\"linecolor\":\"white\",\"showbackground\":true,\"ticks\":\"\",\"zerolinecolor\":\"white\",\"gridwidth\":2}},\"shapedefaults\":{\"line\":{\"color\":\"#2a3f5f\"}},\"annotationdefaults\":{\"arrowcolor\":\"#2a3f5f\",\"arrowhead\":0,\"arrowwidth\":1},\"geo\":{\"bgcolor\":\"white\",\"landcolor\":\"#E5ECF6\",\"subunitcolor\":\"white\",\"showland\":true,\"showlakes\":true,\"lakecolor\":\"white\"},\"title\":{\"x\":0.05},\"mapbox\":{\"style\":\"light\"}}},\"xaxis\":{\"anchor\":\"y\",\"domain\":[0.0,1.0],\"title\":{\"text\":\"\\u041a\\u043e\\u043b\\u0438\\u0447\\u0435\\u0441\\u0442\\u0432\\u043e\"}},\"yaxis\":{\"anchor\":\"x\",\"domain\":[0.0,1.0],\"title\":{\"text\":\"\\u0421\\u0435\\u0437\\u043e\\u043d\\u044b\"},\"categoryorder\":\"array\",\"categoryarray\":[\"11 Seasons\",\"17 Seasons\",\"12 Seasons\",\"13 Seasons\",\"15 Seasons\",\"10 Seasons\",\"9 Seasons\",\"8 Seasons\",\"7 Seasons\",\"6 Seasons\",\"5 Seasons\",\"4 Seasons\",\"3 Seasons\",\"2 Seasons\",\"1 Season\"]},\"legend\":{\"title\":{\"text\":\"\\u0421\\u0435\\u0437\\u043e\\u043d\\u044b\"},\"tracegroupgap\":0},\"title\":{\"text\":\"\\u041f\\u0440\\u043e\\u0434\\u043e\\u043b\\u0436\\u0438\\u0442\\u0435\\u043b\\u044c\\u043d\\u043e\\u0441\\u0442\\u044c \\u0441\\u0435\\u0440\\u0438\\u0430\\u043b\\u043e\\u0432\"},\"barmode\":\"relative\"},                        {\"responsive\": true}                    ).then(function(){\n",
       "                            \n",
       "var gd = document.getElementById('0f82c727-d428-432a-b12d-11420bbdaef2');\n",
       "var x = new MutationObserver(function (mutations, observer) {{\n",
       "        var display = window.getComputedStyle(gd).display;\n",
       "        if (!display || display === 'none') {{\n",
       "            console.log([gd, 'removed!']);\n",
       "            Plotly.purge(gd);\n",
       "            observer.disconnect();\n",
       "        }}\n",
       "}});\n",
       "\n",
       "// Listen for the removal of the full notebook cells\n",
       "var notebookContainer = gd.closest('#notebook-container');\n",
       "if (notebookContainer) {{\n",
       "    x.observe(notebookContainer, {childList: true});\n",
       "}}\n",
       "\n",
       "// Listen for the clearing of the current output cell\n",
       "var outputEl = gd.closest('.output');\n",
       "if (outputEl) {{\n",
       "    x.observe(outputEl, {childList: true});\n",
       "}}\n",
       "\n",
       "                        })                };                });            </script>        </div>"
      ]
     },
     "metadata": {},
     "output_type": "display_data"
    }
   ],
   "source": [
    "px.bar(sum_of_seasons,  \n",
    "       color = sum_of_seasons.index,\n",
    "       color_discrete_sequence = colors,\n",
    "       title = 'Продолжительность сериалов',\n",
    "       text_auto=True,\n",
    "       orientation= \"h\",\n",
    "       labels=dict(index='Сезоны',value='Количество'))"
   ]
  },
  {
   "cell_type": "markdown",
   "id": "2c7494ee",
   "metadata": {},
   "source": [
    "### Построение дашборда"
   ]
  },
  {
   "attachments": {
    "image.png": {
     "image/png": "[encoded data removed]"
    }
   },
   "cell_type": "markdown",
   "id": "403dc710",
   "metadata": {},
   "source": [
    "![image.png](attachment:image.png)"
   ]
  },
  {
   "cell_type": "markdown",
   "id": "a3505029",
   "metadata": {},
   "source": [
    "### Общий вывод о проделанной работе"
   ]
  },
  {
   "cell_type": "markdown",
   "id": "9b5b7e87",
   "metadata": {},
   "source": [
    "В данной работе были изучены столбцы с данными, что они из себя представляют и что содержат. Проведена проверка на дубликаты, пустые строки, изменен тип столбца \"date_added\" c object на datetime. Проведен исследовательский анализ данных, построены графики: \n",
    "* \"Процент фильмов и тв-шоу\" в котором мы выяснили, что на сервисе Нетфликс 69.7% фильмов и 30.3% ТВ-шоу.\n",
    "* \"Процент известных и неизвестных режиссеров\" в котором мы выяснили, что на сервисе Нетфликс 70.6% известных режиссеров и 29.4% неизвестных режиссеров.\n",
    "* \"Топ 10 режиссеров по количеству фильмов и сериалов\" в котором мы выяснили, что на сервисе Нетфликс больше всего фильмов и сериалов у рижессера Rajiv Chilaka.\n",
    "* \"Топ 10 стран-производителей по количеству фильмов и тв-шоу на сервисе Нетфликс\" в котором мы выяснили, что США являются производителями почти половины(47.8%) всех фильмов и сериалов на площадке. \n",
    "\n",
    "По самым интересным графикам построен дашборд"
   ]
  },
  {
   "cell_type": "markdown",
   "id": "15aa639c",
   "metadata": {},
   "source": [
    "# Задача 2 Дизайн A/B эксперимента"
   ]
  },
  {
   "cell_type": "code",
   "execution_count": 167,
   "id": "2d2d3b7f",
   "metadata": {},
   "outputs": [],
   "source": [
    "df = pd.read_csv(\"C:/Zhivopis/AB_Test_Results.csv\")"
   ]
  },
  {
   "cell_type": "code",
   "execution_count": 168,
   "id": "3408d433",
   "metadata": {
    "scrolled": true
   },
   "outputs": [
    {
     "data": {
      "text/html": [
       "<div>\n",
       "<style scoped>\n",
       "    .dataframe tbody tr th:only-of-type {\n",
       "        vertical-align: middle;\n",
       "    }\n",
       "\n",
       "    .dataframe tbody tr th {\n",
       "        vertical-align: top;\n",
       "    }\n",
       "\n",
       "    .dataframe thead th {\n",
       "        text-align: right;\n",
       "    }\n",
       "</style>\n",
       "<table border=\"1\" class=\"dataframe\">\n",
       "  <thead>\n",
       "    <tr style=\"text-align: right;\">\n",
       "      <th></th>\n",
       "      <th>USER_ID</th>\n",
       "      <th>VARIANT_NAME</th>\n",
       "      <th>REVENUE</th>\n",
       "    </tr>\n",
       "  </thead>\n",
       "  <tbody>\n",
       "    <tr>\n",
       "      <th>0</th>\n",
       "      <td>737</td>\n",
       "      <td>variant</td>\n",
       "      <td>0.0</td>\n",
       "    </tr>\n",
       "    <tr>\n",
       "      <th>1</th>\n",
       "      <td>2423</td>\n",
       "      <td>control</td>\n",
       "      <td>0.0</td>\n",
       "    </tr>\n",
       "    <tr>\n",
       "      <th>2</th>\n",
       "      <td>9411</td>\n",
       "      <td>control</td>\n",
       "      <td>0.0</td>\n",
       "    </tr>\n",
       "    <tr>\n",
       "      <th>3</th>\n",
       "      <td>7311</td>\n",
       "      <td>control</td>\n",
       "      <td>0.0</td>\n",
       "    </tr>\n",
       "    <tr>\n",
       "      <th>4</th>\n",
       "      <td>6174</td>\n",
       "      <td>variant</td>\n",
       "      <td>0.0</td>\n",
       "    </tr>\n",
       "    <tr>\n",
       "      <th>...</th>\n",
       "      <td>...</td>\n",
       "      <td>...</td>\n",
       "      <td>...</td>\n",
       "    </tr>\n",
       "    <tr>\n",
       "      <th>9995</th>\n",
       "      <td>1981</td>\n",
       "      <td>control</td>\n",
       "      <td>0.0</td>\n",
       "    </tr>\n",
       "    <tr>\n",
       "      <th>9996</th>\n",
       "      <td>502</td>\n",
       "      <td>variant</td>\n",
       "      <td>0.0</td>\n",
       "    </tr>\n",
       "    <tr>\n",
       "      <th>9997</th>\n",
       "      <td>9214</td>\n",
       "      <td>variant</td>\n",
       "      <td>0.0</td>\n",
       "    </tr>\n",
       "    <tr>\n",
       "      <th>9998</th>\n",
       "      <td>7741</td>\n",
       "      <td>control</td>\n",
       "      <td>0.0</td>\n",
       "    </tr>\n",
       "    <tr>\n",
       "      <th>9999</th>\n",
       "      <td>9468</td>\n",
       "      <td>control</td>\n",
       "      <td>0.0</td>\n",
       "    </tr>\n",
       "  </tbody>\n",
       "</table>\n",
       "<p>10000 rows × 3 columns</p>\n",
       "</div>"
      ],
      "text/plain": [
       "      USER_ID VARIANT_NAME  REVENUE\n",
       "0         737      variant      0.0\n",
       "1        2423      control      0.0\n",
       "2        9411      control      0.0\n",
       "3        7311      control      0.0\n",
       "4        6174      variant      0.0\n",
       "...       ...          ...      ...\n",
       "9995     1981      control      0.0\n",
       "9996      502      variant      0.0\n",
       "9997     9214      variant      0.0\n",
       "9998     7741      control      0.0\n",
       "9999     9468      control      0.0\n",
       "\n",
       "[10000 rows x 3 columns]"
      ]
     },
     "execution_count": 168,
     "metadata": {},
     "output_type": "execute_result"
    }
   ],
   "source": [
    "df"
   ]
  },
  {
   "cell_type": "code",
   "execution_count": 169,
   "id": "0acbee8e",
   "metadata": {},
   "outputs": [
    {
     "data": {
      "text/plain": [
       "USER_ID         0\n",
       "VARIANT_NAME    0\n",
       "REVENUE         0\n",
       "dtype: int64"
      ]
     },
     "execution_count": 169,
     "metadata": {},
     "output_type": "execute_result"
    }
   ],
   "source": [
    "df.isna().sum()"
   ]
  },
  {
   "cell_type": "code",
   "execution_count": 170,
   "id": "839cadd2",
   "metadata": {},
   "outputs": [
    {
     "data": {
      "text/plain": [
       "2067"
      ]
     },
     "execution_count": 170,
     "metadata": {},
     "output_type": "execute_result"
    }
   ],
   "source": [
    "df.duplicated().sum()"
   ]
  },
  {
   "cell_type": "markdown",
   "id": "f13200e8",
   "metadata": {},
   "source": [
    "Если один и тот же человек купит товар на одну и ту же сумму несколько раз, то в датафрейме он будет помечен как дубликат, но это не ошибка."
   ]
  },
  {
   "cell_type": "markdown",
   "id": "e2febc82",
   "metadata": {},
   "source": [
    "### Визуализация данных"
   ]
  },
  {
   "cell_type": "code",
   "execution_count": 171,
   "id": "78a8b725",
   "metadata": {},
   "outputs": [
    {
     "data": {
      "text/plain": [
       "9848"
      ]
     },
     "execution_count": 171,
     "metadata": {},
     "output_type": "execute_result"
    }
   ],
   "source": [
    "df['REVENUE'].value_counts().get(0)"
   ]
  },
  {
   "cell_type": "code",
   "execution_count": 172,
   "id": "7a771798",
   "metadata": {},
   "outputs": [
    {
     "data": {
      "text/plain": [
       "10000"
      ]
     },
     "execution_count": 172,
     "metadata": {},
     "output_type": "execute_result"
    }
   ],
   "source": [
    "df['REVENUE'].value_counts().sum()"
   ]
  },
  {
   "cell_type": "code",
   "execution_count": 173,
   "id": "5c64c9c2",
   "metadata": {},
   "outputs": [
    {
     "data": {
      "image/png": "[encoded data removed]",
      "text/plain": [
       "<Figure size 640x480 with 1 Axes>"
      ]
     },
     "metadata": {},
     "output_type": "display_data"
    }
   ],
   "source": [
    "data = df[\"VARIANT_NAME\"].value_counts()\n",
    "labels = df[\"VARIANT_NAME\"].value_counts()\n",
    "explode = (0, 0.1)\n",
    "\n",
    "plt.pie(data, labels = labels, autopct = '%0.1f%%', explode = explode, colors = sns.color_palette('Dark2'))\n",
    "plt.axis('equal')  \n",
    "plt.legend(labels = ['Тестовая группа', 'Контрольная группа']);\n",
    "plt.title(\"Разброс групп \\n\\n\\n\")\n",
    "\n",
    "plt.show()"
   ]
  },
  {
   "cell_type": "code",
   "execution_count": 174,
   "id": "d7aafd1e",
   "metadata": {
    "scrolled": true
   },
   "outputs": [
    {
     "data": {
      "image/png": "[encoded data removed]",
      "text/plain": [
       "<Figure size 640x480 with 1 Axes>"
      ]
     },
     "metadata": {},
     "output_type": "display_data"
    }
   ],
   "source": [
    "data = [df['REVENUE'].value_counts().get(0), df['REVENUE'].value_counts().sum() - df['REVENUE'].value_counts().get(0)]\n",
    "labels = [df['REVENUE'].value_counts().get(0), df['REVENUE'].value_counts().sum() - df['REVENUE'].value_counts().get(0)]\n",
    "explode = (0, 0.1)\n",
    "\n",
    "plt.pie(data, labels = labels, autopct = '%0.1f%%', explode = explode, colors = sns.color_palette('Dark2'))\n",
    "plt.axis('equal')  \n",
    "plt.legend(labels = ['Нулевой доход', 'Ненулевой доход']);\n",
    "plt.title(\"Процент тех, кто принес доход и кто не принес \\n\\n\\n\")\n",
    "\n",
    "plt.show()"
   ]
  },
  {
   "cell_type": "markdown",
   "id": "6b485a4e",
   "metadata": {},
   "source": [
    "Создаем новый столбец retention"
   ]
  },
  {
   "cell_type": "code",
   "execution_count": 175,
   "id": "45a5c46b",
   "metadata": {},
   "outputs": [],
   "source": [
    "df['conversion'] = df['REVENUE'].apply(lambda x: 1 if x > 0 else 0)"
   ]
  },
  {
   "cell_type": "code",
   "execution_count": 176,
   "id": "8dc88996",
   "metadata": {},
   "outputs": [
    {
     "data": {
      "text/html": [
       "<div>\n",
       "<style scoped>\n",
       "    .dataframe tbody tr th:only-of-type {\n",
       "        vertical-align: middle;\n",
       "    }\n",
       "\n",
       "    .dataframe tbody tr th {\n",
       "        vertical-align: top;\n",
       "    }\n",
       "\n",
       "    .dataframe thead th {\n",
       "        text-align: right;\n",
       "    }\n",
       "</style>\n",
       "<table border=\"1\" class=\"dataframe\">\n",
       "  <thead>\n",
       "    <tr style=\"text-align: right;\">\n",
       "      <th></th>\n",
       "      <th>USER_ID</th>\n",
       "      <th>VARIANT_NAME</th>\n",
       "      <th>REVENUE</th>\n",
       "      <th>conversion</th>\n",
       "    </tr>\n",
       "  </thead>\n",
       "  <tbody>\n",
       "    <tr>\n",
       "      <th>2640</th>\n",
       "      <td>8260</td>\n",
       "      <td>control</td>\n",
       "      <td>0.0</td>\n",
       "      <td>0</td>\n",
       "    </tr>\n",
       "    <tr>\n",
       "      <th>3989</th>\n",
       "      <td>940</td>\n",
       "      <td>variant</td>\n",
       "      <td>0.0</td>\n",
       "      <td>0</td>\n",
       "    </tr>\n",
       "    <tr>\n",
       "      <th>6683</th>\n",
       "      <td>6327</td>\n",
       "      <td>control</td>\n",
       "      <td>0.0</td>\n",
       "      <td>0</td>\n",
       "    </tr>\n",
       "    <tr>\n",
       "      <th>2433</th>\n",
       "      <td>4682</td>\n",
       "      <td>variant</td>\n",
       "      <td>0.0</td>\n",
       "      <td>0</td>\n",
       "    </tr>\n",
       "    <tr>\n",
       "      <th>9044</th>\n",
       "      <td>77</td>\n",
       "      <td>variant</td>\n",
       "      <td>0.0</td>\n",
       "      <td>0</td>\n",
       "    </tr>\n",
       "  </tbody>\n",
       "</table>\n",
       "</div>"
      ],
      "text/plain": [
       "      USER_ID VARIANT_NAME  REVENUE  conversion\n",
       "2640     8260      control      0.0           0\n",
       "3989      940      variant      0.0           0\n",
       "6683     6327      control      0.0           0\n",
       "2433     4682      variant      0.0           0\n",
       "9044       77      variant      0.0           0"
      ]
     },
     "execution_count": 176,
     "metadata": {},
     "output_type": "execute_result"
    }
   ],
   "source": [
    "df.sample(5)"
   ]
  },
  {
   "cell_type": "markdown",
   "id": "aa14deff",
   "metadata": {},
   "source": [
    "### t-test"
   ]
  },
  {
   "cell_type": "code",
   "execution_count": 177,
   "id": "58825d42",
   "metadata": {},
   "outputs": [],
   "source": [
    "def ttest (a, b, name1, name2):\n",
    "    alpha = 0.05\n",
    "    t_stat, p_value = ttest_ind(a, b)\n",
    "    print(f'Значение p-значения между группами {name1} и {name2}:{p_value: .15f}')\n",
    "    if p_value > alpha:\n",
    "        print(f'Статистически значимых различий между группами {name1} и {name2} не обнаружено\\n')\n",
    "    else:\n",
    "        print(f'Обнаружены статистически значимые различия между группами {name1} и {name2}\\n')"
   ]
  },
  {
   "cell_type": "code",
   "execution_count": 178,
   "id": "98112195",
   "metadata": {},
   "outputs": [],
   "source": [
    "# Разделение данных на две группы\n",
    "variant_data = df[df['VARIANT_NAME'] == 'variant']['conversion']\n",
    "control_data = df[df['VARIANT_NAME'] == 'control']['conversion']"
   ]
  },
  {
   "cell_type": "code",
   "execution_count": 179,
   "id": "a5dcd8ba",
   "metadata": {},
   "outputs": [
    {
     "name": "stdout",
     "output_type": "stream",
     "text": [
      "Значение p-значения между группами variant и control: 0.487961391467320\n",
      "Статистически значимых различий между группами variant и control не обнаружено\n",
      "\n"
     ]
    }
   ],
   "source": [
    "ttest(variant_data, control_data, \"variant\", \"control\")"
   ]
  },
  {
   "cell_type": "markdown",
   "id": "e686d9be",
   "metadata": {},
   "source": [
    "### Хи-квадрат"
   ]
  },
  {
   "cell_type": "code",
   "execution_count": 180,
   "id": "8d7f19b8",
   "metadata": {
    "scrolled": true
   },
   "outputs": [
    {
     "data": {
      "text/html": [
       "<div>\n",
       "<style scoped>\n",
       "    .dataframe tbody tr th:only-of-type {\n",
       "        vertical-align: middle;\n",
       "    }\n",
       "\n",
       "    .dataframe tbody tr th {\n",
       "        vertical-align: top;\n",
       "    }\n",
       "\n",
       "    .dataframe thead th {\n",
       "        text-align: right;\n",
       "    }\n",
       "</style>\n",
       "<table border=\"1\" class=\"dataframe\">\n",
       "  <thead>\n",
       "    <tr style=\"text-align: right;\">\n",
       "      <th></th>\n",
       "      <th>USER_ID</th>\n",
       "      <th>VARIANT_NAME</th>\n",
       "      <th>REVENUE</th>\n",
       "      <th>conversion</th>\n",
       "    </tr>\n",
       "  </thead>\n",
       "  <tbody>\n",
       "    <tr>\n",
       "      <th>0</th>\n",
       "      <td>737</td>\n",
       "      <td>variant</td>\n",
       "      <td>0.0</td>\n",
       "      <td>0</td>\n",
       "    </tr>\n",
       "    <tr>\n",
       "      <th>1</th>\n",
       "      <td>2423</td>\n",
       "      <td>control</td>\n",
       "      <td>0.0</td>\n",
       "      <td>0</td>\n",
       "    </tr>\n",
       "    <tr>\n",
       "      <th>2</th>\n",
       "      <td>9411</td>\n",
       "      <td>control</td>\n",
       "      <td>0.0</td>\n",
       "      <td>0</td>\n",
       "    </tr>\n",
       "    <tr>\n",
       "      <th>3</th>\n",
       "      <td>7311</td>\n",
       "      <td>control</td>\n",
       "      <td>0.0</td>\n",
       "      <td>0</td>\n",
       "    </tr>\n",
       "    <tr>\n",
       "      <th>4</th>\n",
       "      <td>6174</td>\n",
       "      <td>variant</td>\n",
       "      <td>0.0</td>\n",
       "      <td>0</td>\n",
       "    </tr>\n",
       "  </tbody>\n",
       "</table>\n",
       "</div>"
      ],
      "text/plain": [
       "   USER_ID VARIANT_NAME  REVENUE  conversion\n",
       "0      737      variant      0.0           0\n",
       "1     2423      control      0.0           0\n",
       "2     9411      control      0.0           0\n",
       "3     7311      control      0.0           0\n",
       "4     6174      variant      0.0           0"
      ]
     },
     "execution_count": 180,
     "metadata": {},
     "output_type": "execute_result"
    }
   ],
   "source": [
    "df.head(5)"
   ]
  },
  {
   "cell_type": "code",
   "execution_count": 181,
   "id": "5ef81ffa",
   "metadata": {},
   "outputs": [
    {
     "data": {
      "text/html": [
       "<div>\n",
       "<style scoped>\n",
       "    .dataframe tbody tr th:only-of-type {\n",
       "        vertical-align: middle;\n",
       "    }\n",
       "\n",
       "    .dataframe tbody tr th {\n",
       "        vertical-align: top;\n",
       "    }\n",
       "\n",
       "    .dataframe thead th {\n",
       "        text-align: right;\n",
       "    }\n",
       "</style>\n",
       "<table border=\"1\" class=\"dataframe\">\n",
       "  <thead>\n",
       "    <tr style=\"text-align: right;\">\n",
       "      <th>conversion</th>\n",
       "      <th>0</th>\n",
       "      <th>1</th>\n",
       "    </tr>\n",
       "    <tr>\n",
       "      <th>VARIANT_NAME</th>\n",
       "      <th></th>\n",
       "      <th></th>\n",
       "    </tr>\n",
       "  </thead>\n",
       "  <tbody>\n",
       "    <tr>\n",
       "      <th>control</th>\n",
       "      <td>4904</td>\n",
       "      <td>80</td>\n",
       "    </tr>\n",
       "    <tr>\n",
       "      <th>variant</th>\n",
       "      <td>4944</td>\n",
       "      <td>72</td>\n",
       "    </tr>\n",
       "  </tbody>\n",
       "</table>\n",
       "</div>"
      ],
      "text/plain": [
       "conversion       0   1\n",
       "VARIANT_NAME          \n",
       "control       4904  80\n",
       "variant       4944  72"
      ]
     },
     "execution_count": 181,
     "metadata": {},
     "output_type": "execute_result"
    }
   ],
   "source": [
    "contingency_table = pd.crosstab(df['VARIANT_NAME'], df['conversion'])\n",
    "contingency_table"
   ]
  },
  {
   "cell_type": "code",
   "execution_count": 182,
   "id": "bb474d29",
   "metadata": {
    "scrolled": false
   },
   "outputs": [
    {
     "name": "stdout",
     "output_type": "stream",
     "text": [
      "\n",
      "Результаты теста Хи-квадрат:\n",
      "Статистика Хи-квадрат = 0.37441985868631433\n",
      "p-значение = 0.5406048684924643\n"
     ]
    }
   ],
   "source": [
    "chi2, p_value, _, _ = chi2_contingency(contingency_table)\n",
    "\n",
    "print(\"\\nРезультаты теста Хи-квадрат:\")\n",
    "print(f\"Статистика Хи-квадрат = {chi2}\")\n",
    "print(f\"p-значение = {p_value}\")"
   ]
  },
  {
   "cell_type": "markdown",
   "id": "89a0b127",
   "metadata": {},
   "source": [
    "Статистика Хи-квадрат оказалась маленькой и p-значение большим, это указывает на то, что нет статистически значимой связи между переменными"
   ]
  },
  {
   "cell_type": "markdown",
   "id": "7fa291af",
   "metadata": {},
   "source": [
    "### Бутстрап анализ"
   ]
  },
  {
   "cell_type": "code",
   "execution_count": 183,
   "id": "319cef78",
   "metadata": {},
   "outputs": [],
   "source": [
    "# Определяем функцию для расчета средних значений bootstrap\n",
    "def bootstrap_means(data, n_bootstrap_samples=10000):\n",
    "    bootstrap_sample_means = []\n",
    "    for _ in range(n_bootstrap_samples):\n",
    "        bootstrap_sample = np.random.choice(data, size=len(data), replace=True)\n",
    "        bootstrap_sample_means.append(bootstrap_sample.mean())\n",
    "    return bootstrap_sample_means\n",
    "\n",
    "# Рассчитываем средние значения bootstrap для каждой группы\n",
    "bootstrap_means_A = bootstrap_means(df[df['VARIANT_NAME'] == 'variant']['conversion'])\n",
    "bootstrap_means_B = bootstrap_means(df[df['VARIANT_NAME'] == 'control']['conversion'])\n"
   ]
  },
  {
   "cell_type": "code",
   "execution_count": 184,
   "id": "89562d5b",
   "metadata": {},
   "outputs": [
    {
     "data": {
      "text/plain": [
       "[0.01036682615629984,\n",
       " 0.017344497607655503,\n",
       " 0.01335725677830941,\n",
       " 0.013157894736842105,\n",
       " 0.014952153110047847,\n",
       " 0.014752791068580542,\n",
       " 0.01375598086124402,\n",
       " 0.01814194577352472,\n",
       " 0.01674641148325359,\n",
       " 0.015749601275917065]"
      ]
     },
     "metadata": {},
     "output_type": "display_data"
    }
   ],
   "source": [
    "display(bootstrap_means_A[:10])"
   ]
  },
  {
   "cell_type": "code",
   "execution_count": 185,
   "id": "5eeca4dc",
   "metadata": {
    "scrolled": true
   },
   "outputs": [
    {
     "data": {
      "text/plain": [
       "[0.018659711075441412,\n",
       " 0.016653290529695025,\n",
       " 0.01765650080256822,\n",
       " 0.016452648475120384,\n",
       " 0.013643659711075442,\n",
       " 0.01544943820224719,\n",
       " 0.016653290529695025,\n",
       " 0.016051364365971106,\n",
       " 0.01906099518459069,\n",
       " 0.018057784911717497]"
      ]
     },
     "metadata": {},
     "output_type": "display_data"
    }
   ],
   "source": [
    "display(bootstrap_means_B[:10])"
   ]
  },
  {
   "cell_type": "markdown",
   "id": "a3e9f0c7",
   "metadata": {},
   "source": [
    "### Конверсия групп"
   ]
  },
  {
   "cell_type": "code",
   "execution_count": 186,
   "id": "57349c24",
   "metadata": {},
   "outputs": [
    {
     "data": {
      "text/plain": [
       "VARIANT_NAME\n",
       "control    0.016051\n",
       "variant    0.014354\n",
       "Name: conversion, dtype: float64"
      ]
     },
     "execution_count": 186,
     "metadata": {},
     "output_type": "execute_result"
    }
   ],
   "source": [
    "conversion = df.groupby('VARIANT_NAME')['conversion'].mean()\n",
    "conversion"
   ]
  },
  {
   "cell_type": "markdown",
   "id": "15153e46",
   "metadata": {},
   "source": [
    "Конверсия контрольной группы больше, что позволяет полагать, что добавление интерактивности и мелких деталей на сайт не пошло на пользу."
   ]
  },
  {
   "cell_type": "markdown",
   "id": "c50af276",
   "metadata": {},
   "source": [
    "### Анализ доверительного интервала"
   ]
  },
  {
   "cell_type": "code",
   "execution_count": 187,
   "id": "9f1d0a8d",
   "metadata": {},
   "outputs": [],
   "source": [
    "confidence_level = 0.95"
   ]
  },
  {
   "cell_type": "code",
   "execution_count": 188,
   "id": "adf4a926",
   "metadata": {},
   "outputs": [],
   "source": [
    "data_group1 = variant_data\n",
    "data_group2 = control_data"
   ]
  },
  {
   "cell_type": "code",
   "execution_count": 189,
   "id": "60da304b",
   "metadata": {},
   "outputs": [],
   "source": [
    "#значение успеха (доля единиц в выборке)\n",
    "proportion_success_group1 = data_group1.sum() / data_group1.size\n",
    "\n",
    "#стандартное отклонение\n",
    "standart_error_group1 = np.std(data_group1, ddof = 1) / np.sqrt(len(data_group1))\n",
    "\n",
    "# половина ширины доверительного интервала\n",
    "# stats.t.ppf - функция которая возвращает число для определения, является ли различие между двумя выборками статистически значимым\n",
    "margin_of_error_group1 = standart_error_group1 * np.abs(stats.t.ppf((1 - confidence_level) / 2, len(data_group1) - 1))\n",
    "\n",
    "#нижние границы доверительного интервала\n",
    "lower_bound_group1 = proportion_success_group1 - margin_of_error_group1\n",
    "\n",
    "#верхние границы доверительного интервала\n",
    "upper_bound_group1 = proportion_success_group1 + margin_of_error_group1\n",
    "\n",
    "\n",
    "proportion_success_group2 = data_group2.sum() / data_group2.size\n",
    "standart_error_group2 = np.std(data_group2, ddof = 1) / np.sqrt(len(data_group2))\n",
    "margin_of_error_group2 = standart_error_group2 * np.abs(stats.t.ppf((1 - confidence_level) / 2, len(data_group2) - 1))\n",
    "\n",
    "lower_bound_group2 = proportion_success_group2 - margin_of_error_group2\n",
    "upper_bound_group2 = proportion_success_group2 + margin_of_error_group2"
   ]
  },
  {
   "cell_type": "code",
   "execution_count": 190,
   "id": "fb2e85de",
   "metadata": {
    "scrolled": false
   },
   "outputs": [
    {
     "data": {
      "image/png": "[encoded data removed]",
      "text/plain": [
       "<Figure size 1000x600 with 1 Axes>"
      ]
     },
     "metadata": {},
     "output_type": "display_data"
    }
   ],
   "source": [
    "plt.figure(figsize = (10, 6))\n",
    "plt.errorbar(1, proportion_success_group1, yerr = margin_of_error_group1, fmt = 'o', markersize = 8, capsize = 8, label = 'Группа 1')\n",
    "plt.errorbar(2, proportion_success_group2, yerr = margin_of_error_group2, fmt = 'o', markersize = 8, capsize = 8, label = 'Группа 2')\n",
    "plt.xticks([1,2], ['Группа 1', 'Группа 2'])\n",
    "plt.ylabel('Значение')\n",
    "plt.title(f'Доверительные интервалы для доли успеха с уровнем доверия {confidence_level}')\n",
    "plt.legend()\n",
    "plt.tight_layout()\n",
    "plt.show()\n"
   ]
  },
  {
   "cell_type": "code",
   "execution_count": 191,
   "id": "8e165c9c",
   "metadata": {},
   "outputs": [
    {
     "name": "stdout",
     "output_type": "stream",
     "text": [
      "Группа 1: Доверительный анализ для доли успеха [ 0.011,  0.018], Доля успеха:  0.014 \n",
      "Группа 2: Доверительный анализ для доли успеха [ 0.013,  0.020], Доля успеха:  0.016 \n"
     ]
    }
   ],
   "source": [
    "print(f'Группа 1: Доверительный анализ для доли успеха [{lower_bound_group1: .3f}, {upper_bound_group1: .3f}], Доля успеха: {proportion_success_group1: .3f} ')\n",
    "print(f'Группа 2: Доверительный анализ для доли успеха [{lower_bound_group2: .3f}, {upper_bound_group2: .3f}], Доля успеха: {proportion_success_group2: .3f} ')"
   ]
  },
  {
   "cell_type": "code",
   "execution_count": 192,
   "id": "63dcb4ea",
   "metadata": {},
   "outputs": [
    {
     "name": "stdout",
     "output_type": "stream",
     "text": [
      "В данном случае, с 95% вероятностью настоящее значение доли успеха будет лежать в пределах указанного интервала\n"
     ]
    }
   ],
   "source": [
    "print(f'В данном случае, с{confidence_level*100: .0f}% вероятностью настоящее значение доли успеха будет лежать в пределах указанного интервала')"
   ]
  },
  {
   "cell_type": "markdown",
   "id": "6355489d",
   "metadata": {},
   "source": [
    "### Вывод по итогу эксперимента\n",
    "* **t-test** показал нам, что статистически значимых различий между группами variant и control не обнаружено\n",
    "*\n",
    "* **Хи-квадрат** показал нам, что статистика Хи-квадрат оказалась маленькой и p-значение большим, это указывает на то, что нет статистически значимой связи между переменными\n",
    "*\n",
    "* **Бутстрап** анализ показал нам, различия в средних коэффициентах конверсии между двумя группами незначительно\n",
    "*\n",
    "* **Конверсия** контрольной группы больше, что позволяет полагать, что добавление интерактивности и мелких деталей на сайт не пошло на пользу.\n",
    "*\n",
    "* **Анализ доверительного интервала** - В данном случае, с 95% вероятностью настоящее значение доли успеха будет лежать в пределах указанного интервала(для группы variant [ 0.011,  0.018], для группы control [ 0.013,  0.020]"
   ]
  },
  {
   "cell_type": "markdown",
   "id": "78542728",
   "metadata": {},
   "source": [
    "Изменения на сайте не повлияет на рост conversion. Группы variant и control на самом деле не отличаются, и наблюдаемые различия случайны."
   ]
  }
 ],
 "metadata": {
  "kernelspec": {
   "display_name": "Python 3 (ipykernel)",
   "language": "python",
   "name": "python3"
  },
  "language_info": {
   "codemirror_mode": {
    "name": "ipython",
    "version": 3
   },
   "file_extension": ".py",
   "mimetype": "text/x-python",
   "name": "python",
   "nbconvert_exporter": "python",
   "pygments_lexer": "ipython3",
   "version": "3.11.4"
  }
 },
 "nbformat": 4,
 "nbformat_minor": 5
}
